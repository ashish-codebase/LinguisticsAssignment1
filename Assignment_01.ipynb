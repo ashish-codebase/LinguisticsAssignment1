{
 "cells": [
  {
   "cell_type": "code",
   "execution_count": 5,
   "id": "c45b9672-898b-4cbd-a2eb-bcbb92cabf8d",
   "metadata": {
    "tags": []
   },
   "outputs": [],
   "source": [
    "import pandas as pd\n",
    "import matplotlib.pyplot as plt\n",
    "import numpy as np"
   ]
  },
  {
   "cell_type": "code",
   "execution_count": 6,
   "id": "137cf325-8fbc-436e-96ad-555f67c65291",
   "metadata": {
    "tags": []
   },
   "outputs": [],
   "source": [
    "# kvp = pd.read_csv(\"ProtoWordsKVP.csv\")"
   ]
  },
  {
   "cell_type": "code",
   "execution_count": 7,
   "id": "35ba5a48-5883-4b7d-a391-ee9d2a4cde99",
   "metadata": {
    "tags": []
   },
   "outputs": [
    {
     "data": {
      "text/html": [
       "<div>\n",
       "<style scoped>\n",
       "    .dataframe tbody tr th:only-of-type {\n",
       "        vertical-align: middle;\n",
       "    }\n",
       "\n",
       "    .dataframe tbody tr th {\n",
       "        vertical-align: top;\n",
       "    }\n",
       "\n",
       "    .dataframe thead th {\n",
       "        text-align: right;\n",
       "    }\n",
       "</style>\n",
       "<table border=\"1\" class=\"dataframe\">\n",
       "  <thead>\n",
       "    <tr style=\"text-align: right;\">\n",
       "      <th></th>\n",
       "      <th>father</th>\n",
       "      <th>mother</th>\n",
       "      <th>one</th>\n",
       "      <th>eight</th>\n",
       "      <th>knee</th>\n",
       "      <th>nose</th>\n",
       "      <th>tongue</th>\n",
       "      <th>dog</th>\n",
       "      <th>egg</th>\n",
       "      <th>smoke</th>\n",
       "      <th>snow</th>\n",
       "      <th>to burn</th>\n",
       "      <th>to bite</th>\n",
       "      <th>to sing</th>\n",
       "      <th>to spit</th>\n",
       "      <th>dry</th>\n",
       "    </tr>\n",
       "  </thead>\n",
       "  <tbody>\n",
       "    <tr>\n",
       "      <th>0</th>\n",
       "      <td>*ićä</td>\n",
       "      <td>*ava</td>\n",
       "      <td>*ikte</td>\n",
       "      <td>*kakteksan</td>\n",
       "      <td>*polwe</td>\n",
       "      <td>*nere</td>\n",
       "      <td>*kele</td>\n",
       "      <td>*pene</td>\n",
       "      <td>*muna</td>\n",
       "      <td>*sawe</td>\n",
       "      <td>*lume</td>\n",
       "      <td>*korpe</td>\n",
       "      <td>*pure</td>\n",
       "      <td>*mura</td>\n",
       "      <td>*śil'ke</td>\n",
       "      <td>*kuśka</td>\n",
       "    </tr>\n",
       "    <tr>\n",
       "      <th>1</th>\n",
       "      <td>*ićä</td>\n",
       "      <td>*emä</td>\n",
       "      <td>*ikte</td>\n",
       "      <td>*kakteksan</td>\n",
       "      <td>*polwe</td>\n",
       "      <td>*nenä</td>\n",
       "      <td>*kele</td>\n",
       "      <td>*pene</td>\n",
       "      <td>*muna</td>\n",
       "      <td>*sawe</td>\n",
       "      <td>*lume</td>\n",
       "      <td>*korpe</td>\n",
       "      <td>*pure</td>\n",
       "      <td>*laulu</td>\n",
       "      <td>*śil'ke</td>\n",
       "      <td>*kujwa</td>\n",
       "    </tr>\n",
       "    <tr>\n",
       "      <th>2</th>\n",
       "      <td>*ićä</td>\n",
       "      <td>*emä</td>\n",
       "      <td>*egy</td>\n",
       "      <td>*ńalɜ</td>\n",
       "      <td>*térd</td>\n",
       "      <td>*orr</td>\n",
       "      <td>*nyelv</td>\n",
       "      <td>*ämpɜ</td>\n",
       "      <td>*tojás</td>\n",
       "      <td>*pičɜ</td>\n",
       "      <td>*hó</td>\n",
       "      <td>*pilɜ</td>\n",
       "      <td>*harap</td>\n",
       "      <td>*énekel</td>\n",
       "      <td>*köp</td>\n",
       "      <td>*ϑasɜ</td>\n",
       "    </tr>\n",
       "    <tr>\n",
       "      <th>3</th>\n",
       "      <td>*ićä</td>\n",
       "      <td>*emä</td>\n",
       "      <td>*ikte</td>\n",
       "      <td>*ńalɜ</td>\n",
       "      <td>*sāns</td>\n",
       "      <td>*nere</td>\n",
       "      <td>*kele</td>\n",
       "      <td>*ämpɜ</td>\n",
       "      <td>*muna</td>\n",
       "      <td>*pičɜ</td>\n",
       "      <td>*tūjt</td>\n",
       "      <td>*pilɜ</td>\n",
       "      <td>*pure</td>\n",
       "      <td>*mura</td>\n",
       "      <td>*śil'ke</td>\n",
       "      <td>*ϑasɜ</td>\n",
       "    </tr>\n",
       "    <tr>\n",
       "      <th>4</th>\n",
       "      <td>*ićä</td>\n",
       "      <td>*ava</td>\n",
       "      <td>*ikte</td>\n",
       "      <td>*kakteksan</td>\n",
       "      <td>*polwe</td>\n",
       "      <td>*nere</td>\n",
       "      <td>*jylme</td>\n",
       "      <td>*pene</td>\n",
       "      <td>*muna</td>\n",
       "      <td>*šikš</td>\n",
       "      <td>*lume</td>\n",
       "      <td>*äŋɜ</td>\n",
       "      <td>*pure</td>\n",
       "      <td>*mura</td>\n",
       "      <td>*śil'ke</td>\n",
       "      <td>*kuśka</td>\n",
       "    </tr>\n",
       "    <tr>\n",
       "      <th>5</th>\n",
       "      <td>*ićä</td>\n",
       "      <td>*emä</td>\n",
       "      <td>*ikte</td>\n",
       "      <td>*kakteksan</td>\n",
       "      <td>*polwe</td>\n",
       "      <td>*nere</td>\n",
       "      <td>*kele</td>\n",
       "      <td>*pene</td>\n",
       "      <td>*muna</td>\n",
       "      <td>*sawe</td>\n",
       "      <td>*lume</td>\n",
       "      <td>*korpe</td>\n",
       "      <td>*pure</td>\n",
       "      <td>*laulu</td>\n",
       "      <td>*śil'ke</td>\n",
       "      <td>*kujwa</td>\n",
       "    </tr>\n",
       "  </tbody>\n",
       "</table>\n",
       "</div>"
      ],
      "text/plain": [
       "  father mother    one       eight    knee   nose  tongue    dog     egg  \\\n",
       "0   *ićä   *ava  *ikte  *kakteksan  *polwe  *nere   *kele  *pene   *muna   \n",
       "1   *ićä   *emä  *ikte  *kakteksan  *polwe  *nenä   *kele  *pene   *muna   \n",
       "2   *ićä   *emä   *egy       *ńalɜ   *térd   *orr  *nyelv  *ämpɜ  *tojás   \n",
       "3   *ićä   *emä  *ikte       *ńalɜ   *sāns  *nere   *kele  *ämpɜ   *muna   \n",
       "4   *ićä   *ava  *ikte  *kakteksan  *polwe  *nere  *jylme  *pene   *muna   \n",
       "5   *ićä   *emä  *ikte  *kakteksan  *polwe  *nere   *kele  *pene   *muna   \n",
       "\n",
       "   smoke   snow   to burn to bite  to sing  to spit     dry  \n",
       "0  *sawe  *lume    *korpe   *pure    *mura  *śil'ke  *kuśka  \n",
       "1  *sawe  *lume    *korpe   *pure   *laulu  *śil'ke  *kujwa  \n",
       "2  *pičɜ    *hó  *pilɜ     *harap  *énekel     *köp   *ϑasɜ  \n",
       "3  *pičɜ  *tūjt  *pilɜ      *pure    *mura  *śil'ke   *ϑasɜ  \n",
       "4  *šikš  *lume      *äŋɜ   *pure    *mura  *śil'ke  *kuśka  \n",
       "5  *sawe  *lume    *korpe   *pure   *laulu  *śil'ke  *kujwa  "
      ]
     },
     "execution_count": 7,
     "metadata": {},
     "output_type": "execute_result"
    }
   ],
   "source": [
    "df = pd.read_excel(\"Hw1-words.xlsx\", sheet_name='Proto-words')  # Replace 'Sheet1' with the name of the sheet you want to read\n",
    "df"
   ]
  },
  {
   "cell_type": "code",
   "execution_count": 8,
   "id": "8fee7ce0-9481-46e7-b430-3adfac1fce56",
   "metadata": {
    "tags": []
   },
   "outputs": [
    {
     "data": {
      "text/plain": [
       "Index(['father', 'mother', 'one', 'eight', 'knee', 'nose', 'tongue', 'dog',\n",
       "       'egg', 'smoke', 'snow', 'to burn', 'to bite', 'to sing', 'to spit',\n",
       "       'dry'],\n",
       "      dtype='object')"
      ]
     },
     "execution_count": 8,
     "metadata": {},
     "output_type": "execute_result"
    }
   ],
   "source": [
    "df.columns"
   ]
  },
  {
   "cell_type": "code",
   "execution_count": 9,
   "id": "5a73b58c-9eef-4c11-9692-b05c857ae4e4",
   "metadata": {
    "tags": []
   },
   "outputs": [
    {
     "data": {
      "text/plain": [
       "[['*ićä', '*ićä', '*ićä', '*ićä', '*ićä', '*ićä'],\n",
       " ['*ava', '*emä', '*emä', '*emä', '*ava', '*emä'],\n",
       " ['*ikte', '*ikte', '*egy', '*ikte', '*ikte', '*ikte'],\n",
       " ['*kakteksan', '*kakteksan', '*ńalɜ', '*ńalɜ', '*kakteksan', '*kakteksan'],\n",
       " ['*polwe', '*polwe', '*térd', '*sāns', '*polwe', '*polwe'],\n",
       " ['*nere', '*nenä', '*orr', '*nere', '*nere', '*nere'],\n",
       " ['*kele', '*kele', '*nyelv', '*kele', '*jylme', '*kele'],\n",
       " ['*pene', '*pene', '*ämpɜ', '*ämpɜ', '*pene', '*pene'],\n",
       " ['*muna', '*muna', '*tojás', '*muna', '*muna', '*muna'],\n",
       " ['*sawe', '*sawe', '*pičɜ', '*pičɜ', '*šikš', '*sawe'],\n",
       " ['*lume', '*lume', '*hó', '*tūjt', '*lume', '*lume'],\n",
       " ['*korpe', '*korpe', '*pilɜ   ', '*pilɜ   ', '*äŋɜ', '*korpe'],\n",
       " ['*pure', '*pure', '*harap', '*pure', '*pure', '*pure'],\n",
       " ['*mura', '*laulu', '*énekel', '*mura', '*mura', '*laulu'],\n",
       " [\"*śil'ke\", \"*śil'ke\", '*köp', \"*śil'ke\", \"*śil'ke\", \"*śil'ke\"],\n",
       " ['*kuśka', '*kujwa', '*ϑasɜ', '*ϑasɜ', '*kuśka', '*kujwa']]"
      ]
     },
     "execution_count": 9,
     "metadata": {},
     "output_type": "execute_result"
    }
   ],
   "source": [
    "word_list = []\n",
    "for i, column in enumerate(df.columns):\n",
    "    # print(i, column)\n",
    "    word_list.append(df[column].tolist())\n",
    "# word_list = word_list.tolist()\n",
    "word_list"
   ]
  },
  {
   "cell_type": "code",
   "execution_count": 10,
   "id": "ecaca5e5-859a-4d73-83df-792f6c0039b8",
   "metadata": {
    "tags": []
   },
   "outputs": [
    {
     "name": "stdout",
     "output_type": "stream",
     "text": [
      "['*ava' '*egy' '*emä' '*harap' '*hó' '*ikte' '*ićä' '*jylme' '*kakteksan'\n",
      " '*kele' '*korpe' '*kujwa' '*kuśka' '*köp' '*laulu' '*lume' '*muna'\n",
      " '*mura' '*nenä' '*nere' '*nyelv' '*orr' '*pene' '*pilɜ   ' '*pičɜ'\n",
      " '*polwe' '*pure' '*sawe' '*sāns' '*tojás' '*térd' '*tūjt' '*ämpɜ' '*äŋɜ'\n",
      " '*énekel' '*ńalɜ' \"*śil'ke\" '*šikš' '*ϑasɜ']\n",
      "39\n"
     ]
    }
   ],
   "source": [
    "values_list_flat = [val for sublist in df.values.tolist() for val in sublist]\n",
    "uniques = np.unique(values_list_flat)\n",
    "print(uniques)\n",
    "print (len(uniques))"
   ]
  },
  {
   "cell_type": "code",
   "execution_count": 11,
   "id": "6b3bfcb8-b5b8-4b5a-9482-c40f081aacf0",
   "metadata": {
    "tags": []
   },
   "outputs": [
    {
     "data": {
      "text/plain": [
       "39"
      ]
     },
     "execution_count": 11,
     "metadata": {},
     "output_type": "execute_result"
    }
   ],
   "source": [
    "keys = list('ABCDEFGHIJKLMNOPQRSTUVWXYZabcdefghijklm')\n",
    "len(keys)"
   ]
  },
  {
   "cell_type": "code",
   "execution_count": 12,
   "id": "74315297-da82-4453-8443-f2c6ba3c445c",
   "metadata": {
    "tags": []
   },
   "outputs": [],
   "source": [
    "proto_dict = dict(zip(uniques, keys))"
   ]
  },
  {
   "cell_type": "code",
   "execution_count": 13,
   "id": "03070aa0-74f2-49ed-a59b-df6e48903db7",
   "metadata": {
    "tags": []
   },
   "outputs": [],
   "source": [
    "# proto_dict"
   ]
  },
  {
   "cell_type": "code",
   "execution_count": 14,
   "id": "33f4e2bc-6ed5-4e80-850e-2c7c9b83c813",
   "metadata": {
    "tags": []
   },
   "outputs": [],
   "source": [
    "df.replace(proto_dict, inplace=True)"
   ]
  },
  {
   "cell_type": "code",
   "execution_count": 15,
   "id": "f0538034-bb33-4252-b0e8-83e81d924f10",
   "metadata": {
    "tags": []
   },
   "outputs": [
    {
     "data": {
      "text/html": [
       "<div>\n",
       "<style scoped>\n",
       "    .dataframe tbody tr th:only-of-type {\n",
       "        vertical-align: middle;\n",
       "    }\n",
       "\n",
       "    .dataframe tbody tr th {\n",
       "        vertical-align: top;\n",
       "    }\n",
       "\n",
       "    .dataframe thead th {\n",
       "        text-align: right;\n",
       "    }\n",
       "</style>\n",
       "<table border=\"1\" class=\"dataframe\">\n",
       "  <thead>\n",
       "    <tr style=\"text-align: right;\">\n",
       "      <th></th>\n",
       "      <th>father</th>\n",
       "      <th>mother</th>\n",
       "      <th>one</th>\n",
       "      <th>eight</th>\n",
       "      <th>knee</th>\n",
       "      <th>nose</th>\n",
       "      <th>tongue</th>\n",
       "      <th>dog</th>\n",
       "      <th>egg</th>\n",
       "      <th>smoke</th>\n",
       "      <th>snow</th>\n",
       "      <th>to burn</th>\n",
       "      <th>to bite</th>\n",
       "      <th>to sing</th>\n",
       "      <th>to spit</th>\n",
       "      <th>dry</th>\n",
       "    </tr>\n",
       "  </thead>\n",
       "  <tbody>\n",
       "    <tr>\n",
       "      <th>0</th>\n",
       "      <td>G</td>\n",
       "      <td>A</td>\n",
       "      <td>F</td>\n",
       "      <td>I</td>\n",
       "      <td>Z</td>\n",
       "      <td>T</td>\n",
       "      <td>J</td>\n",
       "      <td>W</td>\n",
       "      <td>Q</td>\n",
       "      <td>b</td>\n",
       "      <td>P</td>\n",
       "      <td>K</td>\n",
       "      <td>a</td>\n",
       "      <td>R</td>\n",
       "      <td>k</td>\n",
       "      <td>M</td>\n",
       "    </tr>\n",
       "    <tr>\n",
       "      <th>1</th>\n",
       "      <td>G</td>\n",
       "      <td>C</td>\n",
       "      <td>F</td>\n",
       "      <td>I</td>\n",
       "      <td>Z</td>\n",
       "      <td>S</td>\n",
       "      <td>J</td>\n",
       "      <td>W</td>\n",
       "      <td>Q</td>\n",
       "      <td>b</td>\n",
       "      <td>P</td>\n",
       "      <td>K</td>\n",
       "      <td>a</td>\n",
       "      <td>O</td>\n",
       "      <td>k</td>\n",
       "      <td>L</td>\n",
       "    </tr>\n",
       "    <tr>\n",
       "      <th>2</th>\n",
       "      <td>G</td>\n",
       "      <td>C</td>\n",
       "      <td>B</td>\n",
       "      <td>j</td>\n",
       "      <td>e</td>\n",
       "      <td>V</td>\n",
       "      <td>U</td>\n",
       "      <td>g</td>\n",
       "      <td>d</td>\n",
       "      <td>Y</td>\n",
       "      <td>E</td>\n",
       "      <td>X</td>\n",
       "      <td>D</td>\n",
       "      <td>i</td>\n",
       "      <td>N</td>\n",
       "      <td>m</td>\n",
       "    </tr>\n",
       "    <tr>\n",
       "      <th>3</th>\n",
       "      <td>G</td>\n",
       "      <td>C</td>\n",
       "      <td>F</td>\n",
       "      <td>j</td>\n",
       "      <td>c</td>\n",
       "      <td>T</td>\n",
       "      <td>J</td>\n",
       "      <td>g</td>\n",
       "      <td>Q</td>\n",
       "      <td>Y</td>\n",
       "      <td>f</td>\n",
       "      <td>X</td>\n",
       "      <td>a</td>\n",
       "      <td>R</td>\n",
       "      <td>k</td>\n",
       "      <td>m</td>\n",
       "    </tr>\n",
       "    <tr>\n",
       "      <th>4</th>\n",
       "      <td>G</td>\n",
       "      <td>A</td>\n",
       "      <td>F</td>\n",
       "      <td>I</td>\n",
       "      <td>Z</td>\n",
       "      <td>T</td>\n",
       "      <td>H</td>\n",
       "      <td>W</td>\n",
       "      <td>Q</td>\n",
       "      <td>l</td>\n",
       "      <td>P</td>\n",
       "      <td>h</td>\n",
       "      <td>a</td>\n",
       "      <td>R</td>\n",
       "      <td>k</td>\n",
       "      <td>M</td>\n",
       "    </tr>\n",
       "    <tr>\n",
       "      <th>5</th>\n",
       "      <td>G</td>\n",
       "      <td>C</td>\n",
       "      <td>F</td>\n",
       "      <td>I</td>\n",
       "      <td>Z</td>\n",
       "      <td>T</td>\n",
       "      <td>J</td>\n",
       "      <td>W</td>\n",
       "      <td>Q</td>\n",
       "      <td>b</td>\n",
       "      <td>P</td>\n",
       "      <td>K</td>\n",
       "      <td>a</td>\n",
       "      <td>O</td>\n",
       "      <td>k</td>\n",
       "      <td>L</td>\n",
       "    </tr>\n",
       "  </tbody>\n",
       "</table>\n",
       "</div>"
      ],
      "text/plain": [
       "  father mother one eight knee nose tongue dog egg smoke snow to burn to bite  \\\n",
       "0      G      A   F     I    Z    T      J   W   Q     b    P       K       a   \n",
       "1      G      C   F     I    Z    S      J   W   Q     b    P       K       a   \n",
       "2      G      C   B     j    e    V      U   g   d     Y    E       X       D   \n",
       "3      G      C   F     j    c    T      J   g   Q     Y    f       X       a   \n",
       "4      G      A   F     I    Z    T      H   W   Q     l    P       h       a   \n",
       "5      G      C   F     I    Z    T      J   W   Q     b    P       K       a   \n",
       "\n",
       "  to sing to spit dry  \n",
       "0       R       k   M  \n",
       "1       O       k   L  \n",
       "2       i       N   m  \n",
       "3       R       k   m  \n",
       "4       R       k   M  \n",
       "5       O       k   L  "
      ]
     },
     "execution_count": 15,
     "metadata": {},
     "output_type": "execute_result"
    }
   ],
   "source": [
    "df"
   ]
  },
  {
   "cell_type": "code",
   "execution_count": 16,
   "id": "8d39980c-0651-42c0-8d6e-fbf84a0c01c7",
   "metadata": {
    "tags": []
   },
   "outputs": [],
   "source": [
    "matrix_size = df.shape[0]"
   ]
  },
  {
   "cell_type": "code",
   "execution_count": 17,
   "id": "3d8306db-eb39-4e59-873d-859eb68d628a",
   "metadata": {
    "tags": []
   },
   "outputs": [],
   "source": [
    "distance_matrix = pd.DataFrame(index=range(df.shape[0]), columns=range(df.shape[0]))"
   ]
  },
  {
   "cell_type": "code",
   "execution_count": 18,
   "id": "80fcfeb5-3420-48e9-821b-0d55583cd3d9",
   "metadata": {
    "tags": []
   },
   "outputs": [
    {
     "data": {
      "text/plain": [
       "(6, 6)"
      ]
     },
     "execution_count": 18,
     "metadata": {},
     "output_type": "execute_result"
    }
   ],
   "source": [
    "distance_matrix.shape"
   ]
  },
  {
   "cell_type": "code",
   "execution_count": 19,
   "id": "4ebf80ed-ecb0-4256-96cf-f70f202be364",
   "metadata": {
    "tags": []
   },
   "outputs": [],
   "source": [
    "row1 = df.iloc[2]\n",
    "row2 = df.iloc[3]"
   ]
  },
  {
   "cell_type": "code",
   "execution_count": 20,
   "id": "0d86f5fc-c9a6-4a63-b21d-7c01927b91bc",
   "metadata": {
    "tags": []
   },
   "outputs": [
    {
     "data": {
      "text/plain": [
       "9"
      ]
     },
     "execution_count": 20,
     "metadata": {},
     "output_type": "execute_result"
    }
   ],
   "source": [
    "equal_count = (row1 != row2).sum()\n",
    "equal_count"
   ]
  },
  {
   "cell_type": "code",
   "execution_count": 59,
   "id": "23472ca8-9115-48f4-b873-ff727db6936a",
   "metadata": {
    "tags": []
   },
   "outputs": [
    {
     "name": "stdout",
     "output_type": "stream",
     "text": [
      "R1= 0 R2 = 0 Distance = nan\n",
      "R1= 0 R2 = 1 Distance = 4\n",
      "R1= 0 R2 = 2 Distance = 15\n",
      "R1= 0 R2 = 3 Distance = 8\n",
      "R1= 0 R2 = 4 Distance = 3\n",
      "R1= 0 R2 = 5 Distance = 3\n",
      "R1= 1 R2 = 1 Distance = nan\n",
      "R1= 1 R2 = 2 Distance = 14\n",
      "R1= 1 R2 = 3 Distance = 9\n",
      "R1= 1 R2 = 4 Distance = 7\n",
      "R1= 1 R2 = 5 Distance = 1\n",
      "R1= 2 R2 = 2 Distance = nan\n",
      "R1= 2 R2 = 3 Distance = 9\n",
      "R1= 2 R2 = 4 Distance = 15\n",
      "R1= 2 R2 = 5 Distance = 14\n",
      "R1= 3 R2 = 3 Distance = nan\n",
      "R1= 3 R2 = 4 Distance = 9\n",
      "R1= 3 R2 = 5 Distance = 8\n",
      "R1= 4 R2 = 4 Distance = nan\n",
      "R1= 4 R2 = 5 Distance = 6\n",
      "R1= 5 R2 = 5 Distance = nan\n"
     ]
    },
    {
     "data": {
      "text/html": [
       "<div>\n",
       "<style scoped>\n",
       "    .dataframe tbody tr th:only-of-type {\n",
       "        vertical-align: middle;\n",
       "    }\n",
       "\n",
       "    .dataframe tbody tr th {\n",
       "        vertical-align: top;\n",
       "    }\n",
       "\n",
       "    .dataframe thead th {\n",
       "        text-align: right;\n",
       "    }\n",
       "</style>\n",
       "<table border=\"1\" class=\"dataframe\">\n",
       "  <thead>\n",
       "    <tr style=\"text-align: right;\">\n",
       "      <th></th>\n",
       "      <th>0</th>\n",
       "      <th>1</th>\n",
       "      <th>2</th>\n",
       "      <th>3</th>\n",
       "      <th>4</th>\n",
       "      <th>5</th>\n",
       "    </tr>\n",
       "  </thead>\n",
       "  <tbody>\n",
       "    <tr>\n",
       "      <th>0</th>\n",
       "      <td>NaN</td>\n",
       "      <td>4</td>\n",
       "      <td>15</td>\n",
       "      <td>8</td>\n",
       "      <td>3</td>\n",
       "      <td>3</td>\n",
       "    </tr>\n",
       "    <tr>\n",
       "      <th>1</th>\n",
       "      <td>NaN</td>\n",
       "      <td>NaN</td>\n",
       "      <td>14</td>\n",
       "      <td>9</td>\n",
       "      <td>7</td>\n",
       "      <td>1</td>\n",
       "    </tr>\n",
       "    <tr>\n",
       "      <th>2</th>\n",
       "      <td>NaN</td>\n",
       "      <td>NaN</td>\n",
       "      <td>NaN</td>\n",
       "      <td>9</td>\n",
       "      <td>15</td>\n",
       "      <td>14</td>\n",
       "    </tr>\n",
       "    <tr>\n",
       "      <th>3</th>\n",
       "      <td>NaN</td>\n",
       "      <td>NaN</td>\n",
       "      <td>NaN</td>\n",
       "      <td>NaN</td>\n",
       "      <td>9</td>\n",
       "      <td>8</td>\n",
       "    </tr>\n",
       "    <tr>\n",
       "      <th>4</th>\n",
       "      <td>NaN</td>\n",
       "      <td>NaN</td>\n",
       "      <td>NaN</td>\n",
       "      <td>NaN</td>\n",
       "      <td>NaN</td>\n",
       "      <td>6</td>\n",
       "    </tr>\n",
       "    <tr>\n",
       "      <th>5</th>\n",
       "      <td>NaN</td>\n",
       "      <td>NaN</td>\n",
       "      <td>NaN</td>\n",
       "      <td>NaN</td>\n",
       "      <td>NaN</td>\n",
       "      <td>NaN</td>\n",
       "    </tr>\n",
       "  </tbody>\n",
       "</table>\n",
       "</div>"
      ],
      "text/plain": [
       "     0    1    2    3    4    5\n",
       "0  NaN    4   15    8    3    3\n",
       "1  NaN  NaN   14    9    7    1\n",
       "2  NaN  NaN  NaN    9   15   14\n",
       "3  NaN  NaN  NaN  NaN    9    8\n",
       "4  NaN  NaN  NaN  NaN  NaN    6\n",
       "5  NaN  NaN  NaN  NaN  NaN  NaN"
      ]
     },
     "execution_count": 59,
     "metadata": {},
     "output_type": "execute_result"
    }
   ],
   "source": [
    "distance_matrix = pd.DataFrame(index=range(df.shape[0]), columns=range(df.shape[0]))\n",
    "min_value_location = []\n",
    "min_value = 999999\n",
    "for i in range (matrix_size):\n",
    "    for j in range (matrix_size-i,0,-1):\n",
    "        col=matrix_size-j\n",
    "        row =i\n",
    "        row1 = df.iloc[row]\n",
    "        row2 = df.iloc[col]\n",
    "        distance = (row1 != row2).sum()\n",
    "        if distance==0:\n",
    "            distance = np.nan\n",
    "        if min_value>distance:\n",
    "            min_value = distance\n",
    "            min_value_location = (row,col)\n",
    "        \n",
    "        print(\"R1=\",row, \"R2 =\", col, \"Distance =\", distance)\n",
    "        distance_matrix.iloc[row,col]=distance #str(row) +\" ,\"+ str(col)\n",
    "distance_matrix"
   ]
  },
  {
   "cell_type": "code",
   "execution_count": 61,
   "id": "a72b9b75-f9ef-43c3-abab-9418983974d7",
   "metadata": {
    "tags": []
   },
   "outputs": [
    {
     "data": {
      "text/plain": [
       "(1, 5)"
      ]
     },
     "execution_count": 61,
     "metadata": {},
     "output_type": "execute_result"
    }
   ],
   "source": [
    "min_value_location"
   ]
  },
  {
   "cell_type": "code",
   "execution_count": null,
   "id": "f9f0f730-0b88-498b-852a-c16c9ac051c3",
   "metadata": {},
   "outputs": [],
   "source": []
  }
 ],
 "metadata": {
  "kernelspec": {
   "display_name": "Python 3 (ipykernel)",
   "language": "python",
   "name": "python3"
  },
  "language_info": {
   "codemirror_mode": {
    "name": "ipython",
    "version": 3
   },
   "file_extension": ".py",
   "mimetype": "text/x-python",
   "name": "python",
   "nbconvert_exporter": "python",
   "pygments_lexer": "ipython3",
   "version": "3.11.5"
  }
 },
 "nbformat": 4,
 "nbformat_minor": 5
}
