{
 "cells": [
  {
   "cell_type": "code",
   "execution_count": 4,
   "id": "90e5a255-0d97-41c9-aff9-4b5536d35786",
   "metadata": {},
   "outputs": [],
   "source": [
    "import numpy as np\n",
    "import matplotlib.pyplot as plt\n",
    "from scipy.cluster import hierarchy\n",
    "import pandas as pd\n",
    "# Generate some random data for clustering\n",
    "np.random.seed(0)\n",
    "X = np.random.rand(10, 2)  # 10 data points in 2 dimensions\n",
    "X_DF = pd.DataFrame(X)\n"
   ]
  },
  {
   "cell_type": "code",
   "execution_count": 40,
   "id": "49010102-da3f-46da-8408-16ccd4331cca",
   "metadata": {},
   "outputs": [],
   "source": [
    "X =([4],\n",
    "    [5],\n",
    "    [6],\n",
    "    [12]\n",
    ")"
   ]
  },
  {
   "cell_type": "code",
   "execution_count": 43,
   "id": "34d81449-030e-4537-9955-65d4e02e8bb6",
   "metadata": {},
   "outputs": [
    {
     "data": {
      "image/png": "[encoded data removed]",
      "text/plain": [
       "<Figure size 720x360 with 1 Axes>"
      ]
     },
     "metadata": {
      "needs_background": "light"
     },
     "output_type": "display_data"
    }
   ],
   "source": [
    "# Perform hierarchical clustering\n",
    "Z = hierarchy.linkage(X, method='single')  # You can choose different linkage methods\n",
    "# Plot the dendrogram\n",
    "plt.figure(figsize=(10, 5))\n",
    "dn = hierarchy.dendrogram(Z)\n",
    "plt.title('Dendrogram')\n",
    "plt.xlabel('Data Points')\n",
    "plt.ylabel('Distance')\n",
    "plt.show()"
   ]
  },
  {
   "cell_type": "code",
   "execution_count": null,
   "id": "c91abf41-d05b-4b30-9790-71cdf1e08703",
   "metadata": {},
   "outputs": [],
   "source": []
  }
 ],
 "metadata": {
  "kernelspec": {
   "display_name": "Python 3 (ipykernel)",
   "language": "python",
   "name": "python3"
  },
  "language_info": {
   "codemirror_mode": {
    "name": "ipython",
    "version": 3
   },
   "file_extension": ".py",
   "mimetype": "text/x-python",
   "name": "python",
   "nbconvert_exporter": "python",
   "pygments_lexer": "ipython3",
   "version": "3.9.6"
  }
 },
 "nbformat": 4,
 "nbformat_minor": 5
}
