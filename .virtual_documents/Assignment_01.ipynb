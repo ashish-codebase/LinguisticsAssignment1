import pandas as pd
import matplotlib.pyplot as plt
import numpy as np


# kvp = pd.read_csv("ProtoWordsKVP.csv")


df = pd.read_excel("Hw1-words.xlsx", sheet_name='Proto-words')  # Replace 'Sheet1' with the name of the sheet you want to read
df


df.columns


word_list = []
for i, column in enumerate(df.columns):
    # print(i, column)
    word_list.append(df[column].tolist())
# word_list = word_list.tolist()
word_list


values_list_flat = [val for sublist in df.values.tolist() for val in sublist]
uniques = np.unique(values_list_flat)
print(uniques)
print (len(uniques))


keys = list('ABCDEFGHIJKLMNOPQRSTUVWXYZabcdefghijklm')
len(keys)


proto_dict = dict(zip(keys, uniques))


proto_dict



