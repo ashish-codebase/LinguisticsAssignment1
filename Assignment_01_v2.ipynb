{
 "cells": [
  {
   "cell_type": "code",
   "execution_count": 213,
   "id": "b488db64-44d2-4866-87ab-258105c85e0b",
   "metadata": {},
   "outputs": [],
   "source": [
    "import pandas as pd\n",
    "import numpy as np\n"
   ]
  },
  {
   "cell_type": "code",
   "execution_count": 214,
   "id": "f83c8395-bed5-4009-a559-1ffe8b760291",
   "metadata": {},
   "outputs": [
    {
     "data": {
      "text/html": [
       "<div>\n",
       "<style scoped>\n",
       "    .dataframe tbody tr th:only-of-type {\n",
       "        vertical-align: middle;\n",
       "    }\n",
       "\n",
       "    .dataframe tbody tr th {\n",
       "        vertical-align: top;\n",
       "    }\n",
       "\n",
       "    .dataframe thead th {\n",
       "        text-align: right;\n",
       "    }\n",
       "</style>\n",
       "<table border=\"1\" class=\"dataframe\">\n",
       "  <thead>\n",
       "    <tr style=\"text-align: right;\">\n",
       "      <th></th>\n",
       "      <th>father</th>\n",
       "      <th>mother</th>\n",
       "      <th>one</th>\n",
       "      <th>eight</th>\n",
       "      <th>knee</th>\n",
       "      <th>nose</th>\n",
       "      <th>tongue</th>\n",
       "      <th>dog</th>\n",
       "      <th>egg</th>\n",
       "      <th>smoke</th>\n",
       "      <th>snow</th>\n",
       "      <th>to burn</th>\n",
       "      <th>to bite</th>\n",
       "      <th>to sing</th>\n",
       "      <th>to spit</th>\n",
       "      <th>dry</th>\n",
       "    </tr>\n",
       "  </thead>\n",
       "  <tbody>\n",
       "    <tr>\n",
       "      <th>0</th>\n",
       "      <td>*ićä</td>\n",
       "      <td>*ava</td>\n",
       "      <td>*ikte</td>\n",
       "      <td>*kakteksan</td>\n",
       "      <td>*polwe</td>\n",
       "      <td>*nere</td>\n",
       "      <td>*kele</td>\n",
       "      <td>*pene</td>\n",
       "      <td>*muna</td>\n",
       "      <td>*sawe</td>\n",
       "      <td>*lume</td>\n",
       "      <td>*korpe</td>\n",
       "      <td>*pure</td>\n",
       "      <td>*mura</td>\n",
       "      <td>*śil'ke</td>\n",
       "      <td>*kuśka</td>\n",
       "    </tr>\n",
       "    <tr>\n",
       "      <th>1</th>\n",
       "      <td>*ićä</td>\n",
       "      <td>*emä</td>\n",
       "      <td>*ikte</td>\n",
       "      <td>*kakteksan</td>\n",
       "      <td>*polwe</td>\n",
       "      <td>*nenä</td>\n",
       "      <td>*kele</td>\n",
       "      <td>*pene</td>\n",
       "      <td>*muna</td>\n",
       "      <td>*sawe</td>\n",
       "      <td>*lume</td>\n",
       "      <td>*korpe</td>\n",
       "      <td>*pure</td>\n",
       "      <td>*laulu</td>\n",
       "      <td>*śil'ke</td>\n",
       "      <td>*kujwa</td>\n",
       "    </tr>\n",
       "    <tr>\n",
       "      <th>2</th>\n",
       "      <td>*ićä</td>\n",
       "      <td>*emä</td>\n",
       "      <td>*egy</td>\n",
       "      <td>*ńalɜ</td>\n",
       "      <td>*térd</td>\n",
       "      <td>*orr</td>\n",
       "      <td>*nyelv</td>\n",
       "      <td>*ämpɜ</td>\n",
       "      <td>*tojás</td>\n",
       "      <td>*pičɜ</td>\n",
       "      <td>*hó</td>\n",
       "      <td>*pilɜ</td>\n",
       "      <td>*harap</td>\n",
       "      <td>*énekel</td>\n",
       "      <td>*köp</td>\n",
       "      <td>*ϑasɜ</td>\n",
       "    </tr>\n",
       "    <tr>\n",
       "      <th>3</th>\n",
       "      <td>*ićä</td>\n",
       "      <td>*emä</td>\n",
       "      <td>*ikte</td>\n",
       "      <td>*ńalɜ</td>\n",
       "      <td>*sāns</td>\n",
       "      <td>*nere</td>\n",
       "      <td>*kele</td>\n",
       "      <td>*ämpɜ</td>\n",
       "      <td>*muna</td>\n",
       "      <td>*pičɜ</td>\n",
       "      <td>*tūjt</td>\n",
       "      <td>*pilɜ</td>\n",
       "      <td>*pure</td>\n",
       "      <td>*mura</td>\n",
       "      <td>*śil'ke</td>\n",
       "      <td>*ϑasɜ</td>\n",
       "    </tr>\n",
       "    <tr>\n",
       "      <th>4</th>\n",
       "      <td>*ićä</td>\n",
       "      <td>*ava</td>\n",
       "      <td>*ikte</td>\n",
       "      <td>*kakteksan</td>\n",
       "      <td>*polwe</td>\n",
       "      <td>*nere</td>\n",
       "      <td>*jylme</td>\n",
       "      <td>*pene</td>\n",
       "      <td>*muna</td>\n",
       "      <td>*šikš</td>\n",
       "      <td>*lume</td>\n",
       "      <td>*äŋɜ</td>\n",
       "      <td>*pure</td>\n",
       "      <td>*mura</td>\n",
       "      <td>*śil'ke</td>\n",
       "      <td>*kuśka</td>\n",
       "    </tr>\n",
       "    <tr>\n",
       "      <th>5</th>\n",
       "      <td>*ićä</td>\n",
       "      <td>*emä</td>\n",
       "      <td>*ikte</td>\n",
       "      <td>*kakteksan</td>\n",
       "      <td>*polwe</td>\n",
       "      <td>*nere</td>\n",
       "      <td>*kele</td>\n",
       "      <td>*pene</td>\n",
       "      <td>*muna</td>\n",
       "      <td>*sawe</td>\n",
       "      <td>*lume</td>\n",
       "      <td>*korpe</td>\n",
       "      <td>*pure</td>\n",
       "      <td>*laulu</td>\n",
       "      <td>*śil'ke</td>\n",
       "      <td>*kujwa</td>\n",
       "    </tr>\n",
       "  </tbody>\n",
       "</table>\n",
       "</div>"
      ],
      "text/plain": [
       "  father mother    one       eight    knee   nose  tongue    dog     egg  \\\n",
       "0   *ićä   *ava  *ikte  *kakteksan  *polwe  *nere   *kele  *pene   *muna   \n",
       "1   *ićä   *emä  *ikte  *kakteksan  *polwe  *nenä   *kele  *pene   *muna   \n",
       "2   *ićä   *emä   *egy       *ńalɜ   *térd   *orr  *nyelv  *ämpɜ  *tojás   \n",
       "3   *ićä   *emä  *ikte       *ńalɜ   *sāns  *nere   *kele  *ämpɜ   *muna   \n",
       "4   *ićä   *ava  *ikte  *kakteksan  *polwe  *nere  *jylme  *pene   *muna   \n",
       "5   *ićä   *emä  *ikte  *kakteksan  *polwe  *nere   *kele  *pene   *muna   \n",
       "\n",
       "   smoke   snow   to burn to bite  to sing  to spit     dry  \n",
       "0  *sawe  *lume    *korpe   *pure    *mura  *śil'ke  *kuśka  \n",
       "1  *sawe  *lume    *korpe   *pure   *laulu  *śil'ke  *kujwa  \n",
       "2  *pičɜ    *hó  *pilɜ     *harap  *énekel     *köp   *ϑasɜ  \n",
       "3  *pičɜ  *tūjt  *pilɜ      *pure    *mura  *śil'ke   *ϑasɜ  \n",
       "4  *šikš  *lume      *äŋɜ   *pure    *mura  *śil'ke  *kuśka  \n",
       "5  *sawe  *lume    *korpe   *pure   *laulu  *śil'ke  *kujwa  "
      ]
     },
     "execution_count": 214,
     "metadata": {},
     "output_type": "execute_result"
    }
   ],
   "source": [
    "\n",
    "\n",
    "df = pd.read_excel(\"Hw1-words.xlsx\", sheet_name='Proto-words')  # Replace 'Sheet1' with the name of the sheet you want to read\n",
    "df\n"
   ]
  },
  {
   "cell_type": "code",
   "execution_count": 215,
   "id": "8771164c-0e95-4835-8938-08aa58dedb0c",
   "metadata": {},
   "outputs": [
    {
     "data": {
      "text/plain": [
       "Index(['father', 'mother', 'one', 'eight', 'knee', 'nose', 'tongue', 'dog',\n",
       "       'egg', 'smoke', 'snow', 'to burn', 'to bite', 'to sing', 'to spit',\n",
       "       'dry'],\n",
       "      dtype='object')"
      ]
     },
     "execution_count": 215,
     "metadata": {},
     "output_type": "execute_result"
    }
   ],
   "source": [
    "\n",
    "df.columns\n",
    "\n"
   ]
  },
  {
   "cell_type": "code",
   "execution_count": 216,
   "id": "fafb5cd4-d6f2-4ba1-b027-97e6314f8bcd",
   "metadata": {},
   "outputs": [
    {
     "data": {
      "text/plain": [
       "[['*ićä', '*ićä', '*ićä', '*ićä', '*ićä', '*ićä'],\n",
       " ['*ava', '*emä', '*emä', '*emä', '*ava', '*emä'],\n",
       " ['*ikte', '*ikte', '*egy', '*ikte', '*ikte', '*ikte'],\n",
       " ['*kakteksan', '*kakteksan', '*ńalɜ', '*ńalɜ', '*kakteksan', '*kakteksan'],\n",
       " ['*polwe', '*polwe', '*térd', '*sāns', '*polwe', '*polwe'],\n",
       " ['*nere', '*nenä', '*orr', '*nere', '*nere', '*nere'],\n",
       " ['*kele', '*kele', '*nyelv', '*kele', '*jylme', '*kele'],\n",
       " ['*pene', '*pene', '*ämpɜ', '*ämpɜ', '*pene', '*pene'],\n",
       " ['*muna', '*muna', '*tojás', '*muna', '*muna', '*muna'],\n",
       " ['*sawe', '*sawe', '*pičɜ', '*pičɜ', '*šikš', '*sawe'],\n",
       " ['*lume', '*lume', '*hó', '*tūjt', '*lume', '*lume'],\n",
       " ['*korpe', '*korpe', '*pilɜ   ', '*pilɜ   ', '*äŋɜ', '*korpe'],\n",
       " ['*pure', '*pure', '*harap', '*pure', '*pure', '*pure'],\n",
       " ['*mura', '*laulu', '*énekel', '*mura', '*mura', '*laulu'],\n",
       " [\"*śil'ke\", \"*śil'ke\", '*köp', \"*śil'ke\", \"*śil'ke\", \"*śil'ke\"],\n",
       " ['*kuśka', '*kujwa', '*ϑasɜ', '*ϑasɜ', '*kuśka', '*kujwa']]"
      ]
     },
     "execution_count": 216,
     "metadata": {},
     "output_type": "execute_result"
    }
   ],
   "source": [
    "word_list = []\n",
    "for i, column in enumerate(df.columns):\n",
    "    # print(i, column)\n",
    "    word_list.append(df[column].tolist())\n",
    "# word_list = word_list.tolist()\n",
    "word_list\n",
    "\n"
   ]
  },
  {
   "cell_type": "code",
   "execution_count": 217,
   "id": "a2599397-033c-4d59-9c6a-2d09310f1c1b",
   "metadata": {},
   "outputs": [
    {
     "name": "stdout",
     "output_type": "stream",
     "text": [
      "['*ava' '*egy' '*emä' '*harap' '*hó' '*ikte' '*ićä' '*jylme' '*kakteksan'\n",
      " '*kele' '*korpe' '*kujwa' '*kuśka' '*köp' '*laulu' '*lume' '*muna'\n",
      " '*mura' '*nenä' '*nere' '*nyelv' '*orr' '*pene' '*pilɜ   ' '*pičɜ'\n",
      " '*polwe' '*pure' '*sawe' '*sāns' '*tojás' '*térd' '*tūjt' '*ämpɜ' '*äŋɜ'\n",
      " '*énekel' '*ńalɜ' \"*śil'ke\" '*šikš' '*ϑasɜ']\n",
      "39\n"
     ]
    }
   ],
   "source": [
    "values_list_flat = [val for sublist in df.values.tolist() for val in sublist]\n",
    "uniques = np.unique(values_list_flat)\n",
    "print(uniques)\n",
    "print (len(uniques))\n",
    "\n"
   ]
  },
  {
   "cell_type": "code",
   "execution_count": 218,
   "id": "1b79846d-7f64-4a99-9bc8-3d393014c949",
   "metadata": {},
   "outputs": [],
   "source": [
    "keys = list('ABCDEFGHIJKLMNOPQRSTUVWXYZabcdefghijklm')\n",
    "len(keys)\n",
    "\n",
    "\n",
    "proto_dict = dict(zip(uniques, keys))\n",
    "\n",
    "df.replace(proto_dict, inplace=True)\n",
    "\n",
    "\n"
   ]
  },
  {
   "cell_type": "code",
   "execution_count": 219,
   "id": "21528aee-b38e-4869-8b20-b41bc98712b8",
   "metadata": {},
   "outputs": [
    {
     "name": "stdout",
     "output_type": "stream",
     "text": [
      "['S1', 'S2', 'S3', 'S4', 'S5', 'S6']\n"
     ]
    }
   ],
   "source": [
    "matrix_size = df.shape[0]\n",
    "NameIndexed = []\n",
    "for i in range(matrix_size):\n",
    "    NameIndexed.append(\"S\"+str(i+1))\n",
    "print(NameIndexed)"
   ]
  },
  {
   "cell_type": "code",
   "execution_count": 220,
   "id": "8bf24826-b2e3-431c-8211-dd8a2375423a",
   "metadata": {},
   "outputs": [],
   "source": [
    "distance_matrix = pd.DataFrame(index=range(df.shape[0]), columns=range(df.shape[0]))\n",
    "distance_matrix = pd.DataFrame(distance_matrix, index=NameIndexed)"
   ]
  },
  {
   "cell_type": "code",
   "execution_count": 253,
   "id": "fceec5dc-81f3-4338-8d0d-ac781ee4643b",
   "metadata": {},
   "outputs": [],
   "source": [
    "min_value_location = []\n",
    "min_value = 999999\n",
    "for i in range (matrix_size):\n",
    "    for j in range (matrix_size-i,0,-1):\n",
    "        col=matrix_size-j\n",
    "        row =i\n",
    "        row1 = df.iloc[row]\n",
    "        row2 = df.iloc[col]\n",
    "        distance = (row1 != row2).sum()\n",
    "        if min_value>distance and distance!=0:\n",
    "            min_value = distance\n",
    "            min_value_location = (row,col)        \n",
    "#         print(f\"Distance between row {row} and {col}\", \"Distance =\", distance)\n",
    "        distance_matrix.iloc[row,col]=distance\n"
   ]
  },
  {
   "cell_type": "markdown",
   "id": "5d4b4cd6-f2c9-497b-9996-523a93da746d",
   "metadata": {},
   "source": [
    "### <u>**Distance matrix from Proto words**</u>"
   ]
  },
  {
   "cell_type": "code",
   "execution_count": 252,
   "id": "a2806daf-f5e8-47ac-be7b-4ba43c488607",
   "metadata": {},
   "outputs": [
    {
     "data": {
      "text/html": [
       "<div>\n",
       "<style scoped>\n",
       "    .dataframe tbody tr th:only-of-type {\n",
       "        vertical-align: middle;\n",
       "    }\n",
       "\n",
       "    .dataframe tbody tr th {\n",
       "        vertical-align: top;\n",
       "    }\n",
       "\n",
       "    .dataframe thead th {\n",
       "        text-align: right;\n",
       "    }\n",
       "</style>\n",
       "<table border=\"1\" class=\"dataframe\">\n",
       "  <thead>\n",
       "    <tr style=\"text-align: right;\">\n",
       "      <th></th>\n",
       "      <th>S1</th>\n",
       "      <th>S2</th>\n",
       "      <th>S3</th>\n",
       "      <th>S4</th>\n",
       "      <th>S5</th>\n",
       "      <th>S6</th>\n",
       "    </tr>\n",
       "  </thead>\n",
       "  <tbody>\n",
       "    <tr>\n",
       "      <th>S1</th>\n",
       "      <td>0</td>\n",
       "      <td>4</td>\n",
       "      <td>15</td>\n",
       "      <td>8</td>\n",
       "      <td>3</td>\n",
       "      <td>3</td>\n",
       "    </tr>\n",
       "    <tr>\n",
       "      <th>S2</th>\n",
       "      <td>NaN</td>\n",
       "      <td>0</td>\n",
       "      <td>14</td>\n",
       "      <td>9</td>\n",
       "      <td>7</td>\n",
       "      <td>1</td>\n",
       "    </tr>\n",
       "    <tr>\n",
       "      <th>S3</th>\n",
       "      <td>NaN</td>\n",
       "      <td>NaN</td>\n",
       "      <td>0</td>\n",
       "      <td>9</td>\n",
       "      <td>15</td>\n",
       "      <td>14</td>\n",
       "    </tr>\n",
       "    <tr>\n",
       "      <th>S4</th>\n",
       "      <td>NaN</td>\n",
       "      <td>NaN</td>\n",
       "      <td>NaN</td>\n",
       "      <td>0</td>\n",
       "      <td>9</td>\n",
       "      <td>8</td>\n",
       "    </tr>\n",
       "    <tr>\n",
       "      <th>S5</th>\n",
       "      <td>NaN</td>\n",
       "      <td>NaN</td>\n",
       "      <td>NaN</td>\n",
       "      <td>NaN</td>\n",
       "      <td>0</td>\n",
       "      <td>6</td>\n",
       "    </tr>\n",
       "    <tr>\n",
       "      <th>S6</th>\n",
       "      <td>NaN</td>\n",
       "      <td>NaN</td>\n",
       "      <td>NaN</td>\n",
       "      <td>NaN</td>\n",
       "      <td>NaN</td>\n",
       "      <td>0</td>\n",
       "    </tr>\n",
       "  </tbody>\n",
       "</table>\n",
       "</div>"
      ],
      "text/plain": [
       "     S1   S2   S3   S4   S5  S6\n",
       "S1    0    4   15    8    3   3\n",
       "S2  NaN    0   14    9    7   1\n",
       "S3  NaN  NaN    0    9   15  14\n",
       "S4  NaN  NaN  NaN    0    9   8\n",
       "S5  NaN  NaN  NaN  NaN    0   6\n",
       "S6  NaN  NaN  NaN  NaN  NaN   0"
      ]
     },
     "execution_count": 252,
     "metadata": {},
     "output_type": "execute_result"
    }
   ],
   "source": [
    "distance_matrix"
   ]
  },
  {
   "cell_type": "markdown",
   "id": "470df706-7e45-4cff-a4df-9a9511276127",
   "metadata": {},
   "source": [
    "### Renaming columns as S1..Sn & finding the row/col index of the minimum distance"
   ]
  },
  {
   "cell_type": "code",
   "execution_count": 222,
   "id": "0aafd908-4198-473b-b94f-b3fd85ad8e81",
   "metadata": {},
   "outputs": [],
   "source": [
    "distance_matrix.columns = NameIndexed\n",
    "distance_matrix.shape\n",
    "lowerIndex, upperIndex = min_value_location"
   ]
  },
  {
   "cell_type": "code",
   "execution_count": 235,
   "id": "f9a741e4-d944-48b4-a10a-90764cebf9b8",
   "metadata": {},
   "outputs": [],
   "source": [
    "newRowColName = f\"S{lowerIndex+1}{upperIndex+1}\""
   ]
  },
  {
   "cell_type": "markdown",
   "id": "70e3bd4f-e85b-4fc8-ae28-fad8339d448f",
   "metadata": {},
   "source": [
    "### Creating a copy of distance matrix for calculation of 2nd step and removing the rows and column associated with minimum row/col distance."
   ]
  },
  {
   "cell_type": "code",
   "execution_count": 242,
   "id": "b073306d-a192-4671-8747-a69e47d1c186",
   "metadata": {},
   "outputs": [],
   "source": [
    "distance_matrix_l1 = distance_matrix.copy()"
   ]
  },
  {
   "cell_type": "code",
   "execution_count": 243,
   "id": "4f714172-131c-456f-a2aa-dede652d27ba",
   "metadata": {},
   "outputs": [],
   "source": [
    "distance_matrix_l1.drop(distance_matrix_l1.columns[upperIndex], axis=1, inplace=True)\n",
    "distance_matrix_l1.drop(distance_matrix_l1.columns[lowerIndex], axis=1, inplace=True)\n",
    "\n",
    "distance_matrix_l1.drop(distance_matrix_l1.index[upperIndex], inplace=True)\n",
    "distance_matrix_l1.drop(distance_matrix_l1.index[lowerIndex], inplace=True)"
   ]
  },
  {
   "cell_type": "code",
   "execution_count": 250,
   "id": "14288b4d-5d33-481b-b625-46cb1616723c",
   "metadata": {},
   "outputs": [],
   "source": []
  },
  {
   "cell_type": "code",
   "execution_count": 245,
   "id": "e437cbfd-5473-4bee-afc2-626fdd36da23",
   "metadata": {},
   "outputs": [
    {
     "data": {
      "text/plain": [
       "'S26'"
      ]
     },
     "execution_count": 245,
     "metadata": {},
     "output_type": "execute_result"
    }
   ],
   "source": [
    "newRowColName"
   ]
  },
  {
   "cell_type": "code",
   "execution_count": 246,
   "id": "0b45da3a-979c-4011-80b6-7462f2ce8759",
   "metadata": {},
   "outputs": [],
   "source": [
    "# distance_matrix_l1[newRowColName]=np.nan"
   ]
  },
  {
   "cell_type": "code",
   "execution_count": 251,
   "id": "c8c01aa5-6a73-4c7e-a91b-2d8d1a43cf84",
   "metadata": {},
   "outputs": [],
   "source": [
    "# distance_matrix_l1"
   ]
  },
  {
   "cell_type": "code",
   "execution_count": 248,
   "id": "f3f16197-61b0-45df-a623-537a7be18357",
   "metadata": {},
   "outputs": [],
   "source": [
    "\n",
    "rowCombo  = distance_matrix_l1.iloc[0]\n",
    "rowCombo.iloc[:] = np.nan"
   ]
  },
  {
   "cell_type": "code",
   "execution_count": 249,
   "id": "e2c054b7-1cbc-4446-8117-7ebb2378e449",
   "metadata": {},
   "outputs": [
    {
     "data": {
      "text/html": [
       "<div>\n",
       "<style scoped>\n",
       "    .dataframe tbody tr th:only-of-type {\n",
       "        vertical-align: middle;\n",
       "    }\n",
       "\n",
       "    .dataframe tbody tr th {\n",
       "        vertical-align: top;\n",
       "    }\n",
       "\n",
       "    .dataframe thead th {\n",
       "        text-align: right;\n",
       "    }\n",
       "</style>\n",
       "<table border=\"1\" class=\"dataframe\">\n",
       "  <thead>\n",
       "    <tr style=\"text-align: right;\">\n",
       "      <th></th>\n",
       "      <th>S26</th>\n",
       "      <th>S1</th>\n",
       "      <th>S3</th>\n",
       "      <th>S4</th>\n",
       "      <th>S5</th>\n",
       "    </tr>\n",
       "  </thead>\n",
       "  <tbody>\n",
       "    <tr>\n",
       "      <th>S26</th>\n",
       "      <td>NaN</td>\n",
       "      <td>NaN</td>\n",
       "      <td>NaN</td>\n",
       "      <td>NaN</td>\n",
       "      <td>NaN</td>\n",
       "    </tr>\n",
       "    <tr>\n",
       "      <th>S3</th>\n",
       "      <td>NaN</td>\n",
       "      <td>NaN</td>\n",
       "      <td>0</td>\n",
       "      <td>9</td>\n",
       "      <td>15</td>\n",
       "    </tr>\n",
       "    <tr>\n",
       "      <th>S4</th>\n",
       "      <td>NaN</td>\n",
       "      <td>NaN</td>\n",
       "      <td>NaN</td>\n",
       "      <td>0</td>\n",
       "      <td>9</td>\n",
       "    </tr>\n",
       "    <tr>\n",
       "      <th>S5</th>\n",
       "      <td>NaN</td>\n",
       "      <td>NaN</td>\n",
       "      <td>NaN</td>\n",
       "      <td>NaN</td>\n",
       "      <td>0</td>\n",
       "    </tr>\n",
       "  </tbody>\n",
       "</table>\n",
       "</div>"
      ],
      "text/plain": [
       "     S26   S1   S3   S4   S5\n",
       "S26  NaN  NaN  NaN  NaN  NaN\n",
       "S3   NaN  NaN    0    9   15\n",
       "S4   NaN  NaN  NaN    0    9\n",
       "S5   NaN  NaN  NaN  NaN    0"
      ]
     },
     "execution_count": 249,
     "metadata": {},
     "output_type": "execute_result"
    }
   ],
   "source": [
    "distance_matrix_l1.insert(0, f\"S{lowerIndex+1}{upperIndex+1}\", rowCombo)\n",
    "\n",
    "distance_matrix_l1.rename(index={distance_matrix_l1.index[0]: f\"S{lowerIndex+1}{upperIndex+1}\"}, inplace=True)\n",
    "# distance_matrix_l1.index[0] = f\"S{lowerIndex}{upperIndex}\"\n",
    "\n",
    "distance_matrix_l1"
   ]
  },
  {
   "cell_type": "code",
   "execution_count": 226,
   "id": "b0ced453-0708-4f90-b67d-a651ba922047",
   "metadata": {},
   "outputs": [
    {
     "data": {
      "text/plain": [
       "(4, 5)"
      ]
     },
     "execution_count": 226,
     "metadata": {},
     "output_type": "execute_result"
    }
   ],
   "source": [
    "dfnew = pd.DataFrame(distance_matrix_l1.iloc[2], index=[0])\n",
    "dfnew\n",
    "distance_matrix_l1.shape"
   ]
  },
  {
   "cell_type": "code",
   "execution_count": null,
   "id": "8465ec9d-3545-4aba-8334-1f66e4cc1e9a",
   "metadata": {},
   "outputs": [],
   "source": [
    "new"
   ]
  },
  {
   "cell_type": "code",
   "execution_count": 227,
   "id": "79aaefbd-afc4-4e89-a2d6-216d9fe8512b",
   "metadata": {},
   "outputs": [],
   "source": [
    "new_distance_matrix = pd.DataFrame()\n",
    "drop_index = max(min_value_location)\n",
    "minIndex = min(min_value_location)\n",
    "\n"
   ]
  },
  {
   "cell_type": "code",
   "execution_count": 228,
   "id": "18c9f0da-067d-4983-848e-65443d223a6e",
   "metadata": {},
   "outputs": [],
   "source": [
    "drop_index\n",
    "\n",
    "distance_matrix_l1 = distance_matrix.copy()\n",
    "\n",
    "\n"
   ]
  },
  {
   "cell_type": "code",
   "execution_count": 232,
   "id": "9a23776e-508d-4539-b188-fc53d9ab6c4c",
   "metadata": {},
   "outputs": [
    {
     "data": {
      "text/html": [
       "<div>\n",
       "<style scoped>\n",
       "    .dataframe tbody tr th:only-of-type {\n",
       "        vertical-align: middle;\n",
       "    }\n",
       "\n",
       "    .dataframe tbody tr th {\n",
       "        vertical-align: top;\n",
       "    }\n",
       "\n",
       "    .dataframe thead th {\n",
       "        text-align: right;\n",
       "    }\n",
       "</style>\n",
       "<table border=\"1\" class=\"dataframe\">\n",
       "  <thead>\n",
       "    <tr style=\"text-align: right;\">\n",
       "      <th></th>\n",
       "      <th>S1</th>\n",
       "      <th>S2</th>\n",
       "      <th>S3</th>\n",
       "      <th>S4</th>\n",
       "      <th>S5</th>\n",
       "      <th>S6</th>\n",
       "    </tr>\n",
       "  </thead>\n",
       "  <tbody>\n",
       "    <tr>\n",
       "      <th>S1</th>\n",
       "      <td>0</td>\n",
       "      <td>4</td>\n",
       "      <td>15</td>\n",
       "      <td>8</td>\n",
       "      <td>3</td>\n",
       "      <td>3</td>\n",
       "    </tr>\n",
       "    <tr>\n",
       "      <th>S2</th>\n",
       "      <td>NaN</td>\n",
       "      <td>0</td>\n",
       "      <td>14</td>\n",
       "      <td>9</td>\n",
       "      <td>7</td>\n",
       "      <td>1</td>\n",
       "    </tr>\n",
       "    <tr>\n",
       "      <th>S3</th>\n",
       "      <td>NaN</td>\n",
       "      <td>NaN</td>\n",
       "      <td>0</td>\n",
       "      <td>9</td>\n",
       "      <td>15</td>\n",
       "      <td>14</td>\n",
       "    </tr>\n",
       "    <tr>\n",
       "      <th>S4</th>\n",
       "      <td>NaN</td>\n",
       "      <td>NaN</td>\n",
       "      <td>NaN</td>\n",
       "      <td>0</td>\n",
       "      <td>9</td>\n",
       "      <td>8</td>\n",
       "    </tr>\n",
       "    <tr>\n",
       "      <th>S5</th>\n",
       "      <td>NaN</td>\n",
       "      <td>NaN</td>\n",
       "      <td>NaN</td>\n",
       "      <td>NaN</td>\n",
       "      <td>0</td>\n",
       "      <td>6</td>\n",
       "    </tr>\n",
       "    <tr>\n",
       "      <th>S6</th>\n",
       "      <td>NaN</td>\n",
       "      <td>NaN</td>\n",
       "      <td>NaN</td>\n",
       "      <td>NaN</td>\n",
       "      <td>NaN</td>\n",
       "      <td>0</td>\n",
       "    </tr>\n",
       "  </tbody>\n",
       "</table>\n",
       "</div>"
      ],
      "text/plain": [
       "     S1   S2   S3   S4   S5  S6\n",
       "S1    0    4   15    8    3   3\n",
       "S2  NaN    0   14    9    7   1\n",
       "S3  NaN  NaN    0    9   15  14\n",
       "S4  NaN  NaN  NaN    0    9   8\n",
       "S5  NaN  NaN  NaN  NaN    0   6\n",
       "S6  NaN  NaN  NaN  NaN  NaN   0"
      ]
     },
     "execution_count": 232,
     "metadata": {},
     "output_type": "execute_result"
    }
   ],
   "source": [
    "distance_matrix_l1"
   ]
  },
  {
   "cell_type": "code",
   "execution_count": 231,
   "id": "51544953-b8a9-4f46-acc0-61f21057081e",
   "metadata": {},
   "outputs": [
    {
     "ename": "IndexError",
     "evalue": "too many indices for array: array is 1-dimensional, but 2 were indexed",
     "output_type": "error",
     "traceback": [
      "\u001b[1;31m---------------------------------------------------------------------------\u001b[0m",
      "\u001b[1;31mIndexError\u001b[0m                                Traceback (most recent call last)",
      "\u001b[1;32m~\\AppData\\Local\\Temp/ipykernel_16352/2481612946.py\u001b[0m in \u001b[0;36m<module>\u001b[1;34m\u001b[0m\n\u001b[1;32m----> 1\u001b[1;33m \u001b[0mdistance_matrix_l1\u001b[0m\u001b[1;33m.\u001b[0m\u001b[0mdrop\u001b[0m\u001b[1;33m(\u001b[0m\u001b[0mdistance_matrix_l1\u001b[0m\u001b[1;33m.\u001b[0m\u001b[0mcolumns\u001b[0m\u001b[1;33m[\u001b[0m\u001b[0mmin_value_location\u001b[0m\u001b[1;33m]\u001b[0m\u001b[1;33m,\u001b[0m \u001b[0maxis\u001b[0m\u001b[1;33m=\u001b[0m\u001b[1;36m1\u001b[0m\u001b[1;33m,\u001b[0m \u001b[0minplace\u001b[0m\u001b[1;33m=\u001b[0m\u001b[1;32mTrue\u001b[0m\u001b[1;33m)\u001b[0m\u001b[1;33m\u001b[0m\u001b[1;33m\u001b[0m\u001b[0m\n\u001b[0m\u001b[0;32m      2\u001b[0m \u001b[1;33m\u001b[0m\u001b[0m\n\u001b[0;32m      3\u001b[0m \u001b[0mdistance_matrix_l1\u001b[0m\u001b[1;33m.\u001b[0m\u001b[0mdrop\u001b[0m\u001b[1;33m(\u001b[0m\u001b[0mdistance_matrix_l1\u001b[0m\u001b[1;33m.\u001b[0m\u001b[0mindex\u001b[0m\u001b[1;33m[\u001b[0m\u001b[0mdrop_index\u001b[0m\u001b[1;33m]\u001b[0m\u001b[1;33m,\u001b[0m \u001b[0minplace\u001b[0m\u001b[1;33m=\u001b[0m\u001b[1;32mTrue\u001b[0m\u001b[1;33m)\u001b[0m\u001b[1;33m\u001b[0m\u001b[1;33m\u001b[0m\u001b[0m\n",
      "\u001b[1;32mE:\\PortableApps\\apps\\lib\\site-packages\\pandas\\core\\indexes\\base.py\u001b[0m in \u001b[0;36m__getitem__\u001b[1;34m(self, key)\u001b[0m\n\u001b[0;32m   4614\u001b[0m             \u001b[0mkey\u001b[0m \u001b[1;33m=\u001b[0m \u001b[0mnp\u001b[0m\u001b[1;33m.\u001b[0m\u001b[0masarray\u001b[0m\u001b[1;33m(\u001b[0m\u001b[0mkey\u001b[0m\u001b[1;33m,\u001b[0m \u001b[0mdtype\u001b[0m\u001b[1;33m=\u001b[0m\u001b[0mbool\u001b[0m\u001b[1;33m)\u001b[0m\u001b[1;33m\u001b[0m\u001b[1;33m\u001b[0m\u001b[0m\n\u001b[0;32m   4615\u001b[0m \u001b[1;33m\u001b[0m\u001b[0m\n\u001b[1;32m-> 4616\u001b[1;33m         \u001b[0mresult\u001b[0m \u001b[1;33m=\u001b[0m \u001b[0mgetitem\u001b[0m\u001b[1;33m(\u001b[0m\u001b[0mkey\u001b[0m\u001b[1;33m)\u001b[0m\u001b[1;33m\u001b[0m\u001b[1;33m\u001b[0m\u001b[0m\n\u001b[0m\u001b[0;32m   4617\u001b[0m         \u001b[1;32mif\u001b[0m \u001b[1;32mnot\u001b[0m \u001b[0mis_scalar\u001b[0m\u001b[1;33m(\u001b[0m\u001b[0mresult\u001b[0m\u001b[1;33m)\u001b[0m\u001b[1;33m:\u001b[0m\u001b[1;33m\u001b[0m\u001b[1;33m\u001b[0m\u001b[0m\n\u001b[0;32m   4618\u001b[0m             \u001b[1;31m# error: Argument 1 to \"ndim\" has incompatible type \"Union[ExtensionArray,\u001b[0m\u001b[1;33m\u001b[0m\u001b[1;33m\u001b[0m\u001b[1;33m\u001b[0m\u001b[0m\n",
      "\u001b[1;31mIndexError\u001b[0m: too many indices for array: array is 1-dimensional, but 2 were indexed"
     ]
    }
   ],
   "source": [
    "distance_matrix_l1.drop(distance_matrix_l1.columns[min_value_location], axis=1, inplace=True)\n",
    "\n",
    "distance_matrix_l1.drop(distance_matrix_l1.index[drop_index], inplace=True)"
   ]
  },
  {
   "cell_type": "code",
   "execution_count": null,
   "id": "9d1a01d2-afa8-4aa7-b7a3-217162b0471f",
   "metadata": {},
   "outputs": [],
   "source": [
    "distance_matrix_l1\n",
    "\n",
    "distance_matrix_drop1 = distance_matrix.drop(distance_matrix.columns[drop_index], axis=1)\n",
    "\n",
    "NameIndexed\n",
    "\n",
    "distance_matrix.columns = NameIndexed\n",
    "distance_matrix = pd.DataFrame(distance_matrix, index=NameIndexed)\n"
   ]
  },
  {
   "cell_type": "code",
   "execution_count": null,
   "id": "79546d31-fac4-4504-9e40-329243572ad0",
   "metadata": {},
   "outputs": [],
   "source": []
  },
  {
   "cell_type": "code",
   "execution_count": null,
   "id": "519db6c4-fd99-4863-9562-2f4c95233e6e",
   "metadata": {},
   "outputs": [],
   "source": []
  },
  {
   "cell_type": "code",
   "execution_count": null,
   "id": "3e02d7c2-2324-4b0f-be06-00152c21b7b1",
   "metadata": {},
   "outputs": [],
   "source": []
  },
  {
   "cell_type": "code",
   "execution_count": null,
   "id": "9f2e5db0-0ab7-4469-bf75-0f2d6ab073e3",
   "metadata": {},
   "outputs": [],
   "source": []
  },
  {
   "cell_type": "code",
   "execution_count": null,
   "id": "3fc1fbf4-feff-45ae-bd69-d1d474a35de3",
   "metadata": {},
   "outputs": [],
   "source": []
  },
  {
   "cell_type": "code",
   "execution_count": null,
   "id": "5507a991-afa5-41e7-b072-3d643bf13c33",
   "metadata": {},
   "outputs": [],
   "source": []
  },
  {
   "cell_type": "code",
   "execution_count": null,
   "id": "a3352a98-3450-496e-b2bc-da679ab3a453",
   "metadata": {},
   "outputs": [],
   "source": []
  },
  {
   "cell_type": "code",
   "execution_count": null,
   "id": "da4931f6-93e7-4947-a061-e3903aa256ec",
   "metadata": {},
   "outputs": [],
   "source": []
  },
  {
   "cell_type": "code",
   "execution_count": null,
   "id": "96360c10-6e69-4c64-9df0-01da179b925f",
   "metadata": {},
   "outputs": [],
   "source": []
  },
  {
   "cell_type": "code",
   "execution_count": null,
   "id": "d1832343-d4c2-4b7c-bf68-da4d5afaf30d",
   "metadata": {},
   "outputs": [],
   "source": []
  }
 ],
 "metadata": {
  "kernelspec": {
   "display_name": "Python 3 (ipykernel)",
   "language": "python",
   "name": "python3"
  },
  "language_info": {
   "codemirror_mode": {
    "name": "ipython",
    "version": 3
   },
   "file_extension": ".py",
   "mimetype": "text/x-python",
   "name": "python",
   "nbconvert_exporter": "python",
   "pygments_lexer": "ipython3",
   "version": "3.9.6"
  }
 },
 "nbformat": 4,
 "nbformat_minor": 5
}
