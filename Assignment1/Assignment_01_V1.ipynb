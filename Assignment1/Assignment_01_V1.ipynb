{
 "cells": [
  {
   "cell_type": "code",
   "execution_count": 130,
   "id": "c45b9672-898b-4cbd-a2eb-bcbb92cabf8d",
   "metadata": {
    "tags": []
   },
   "outputs": [],
   "source": [
    "import pandas as pd\n",
    "import matplotlib.pyplot as plt\n",
    "import numpy as np"
   ]
  },
  {
   "cell_type": "code",
   "execution_count": 131,
   "id": "137cf325-8fbc-436e-96ad-555f67c65291",
   "metadata": {
    "tags": []
   },
   "outputs": [],
   "source": [
    "# kvp = pd.read_csv(\"ProtoWordsKVP.csv\")"
   ]
  },
  {
   "cell_type": "code",
   "execution_count": 132,
   "id": "35ba5a48-5883-4b7d-a391-ee9d2a4cde99",
   "metadata": {
    "tags": []
   },
   "outputs": [
    {
     "data": {
      "text/html": [
       "<div>\n",
       "<style scoped>\n",
       "    .dataframe tbody tr th:only-of-type {\n",
       "        vertical-align: middle;\n",
       "    }\n",
       "\n",
       "    .dataframe tbody tr th {\n",
       "        vertical-align: top;\n",
       "    }\n",
       "\n",
       "    .dataframe thead th {\n",
       "        text-align: right;\n",
       "    }\n",
       "</style>\n",
       "<table border=\"1\" class=\"dataframe\">\n",
       "  <thead>\n",
       "    <tr style=\"text-align: right;\">\n",
       "      <th></th>\n",
       "      <th>father</th>\n",
       "      <th>mother</th>\n",
       "      <th>one</th>\n",
       "      <th>eight</th>\n",
       "      <th>knee</th>\n",
       "      <th>nose</th>\n",
       "      <th>tongue</th>\n",
       "      <th>dog</th>\n",
       "      <th>egg</th>\n",
       "      <th>smoke</th>\n",
       "      <th>snow</th>\n",
       "      <th>to burn</th>\n",
       "      <th>to bite</th>\n",
       "      <th>to sing</th>\n",
       "      <th>to spit</th>\n",
       "      <th>dry</th>\n",
       "    </tr>\n",
       "  </thead>\n",
       "  <tbody>\n",
       "    <tr>\n",
       "      <th>0</th>\n",
       "      <td>*ićä</td>\n",
       "      <td>*ava</td>\n",
       "      <td>*ikte</td>\n",
       "      <td>*kakteksan</td>\n",
       "      <td>*polwe</td>\n",
       "      <td>*nere</td>\n",
       "      <td>*kele</td>\n",
       "      <td>*pene</td>\n",
       "      <td>*muna</td>\n",
       "      <td>*sawe</td>\n",
       "      <td>*lume</td>\n",
       "      <td>*korpe</td>\n",
       "      <td>*pure</td>\n",
       "      <td>*mura</td>\n",
       "      <td>*śil'ke</td>\n",
       "      <td>*kuśka</td>\n",
       "    </tr>\n",
       "    <tr>\n",
       "      <th>1</th>\n",
       "      <td>*ićä</td>\n",
       "      <td>*emä</td>\n",
       "      <td>*ikte</td>\n",
       "      <td>*kakteksan</td>\n",
       "      <td>*polwe</td>\n",
       "      <td>*nenä</td>\n",
       "      <td>*kele</td>\n",
       "      <td>*pene</td>\n",
       "      <td>*muna</td>\n",
       "      <td>*sawe</td>\n",
       "      <td>*lume</td>\n",
       "      <td>*korpe</td>\n",
       "      <td>*pure</td>\n",
       "      <td>*laulu</td>\n",
       "      <td>*śil'ke</td>\n",
       "      <td>*kujwa</td>\n",
       "    </tr>\n",
       "    <tr>\n",
       "      <th>2</th>\n",
       "      <td>*ićä</td>\n",
       "      <td>*emä</td>\n",
       "      <td>*egy</td>\n",
       "      <td>*ńalɜ</td>\n",
       "      <td>*térd</td>\n",
       "      <td>*orr</td>\n",
       "      <td>*nyelv</td>\n",
       "      <td>*ämpɜ</td>\n",
       "      <td>*tojás</td>\n",
       "      <td>*pičɜ</td>\n",
       "      <td>*hó</td>\n",
       "      <td>*pilɜ</td>\n",
       "      <td>*harap</td>\n",
       "      <td>*énekel</td>\n",
       "      <td>*köp</td>\n",
       "      <td>*ϑasɜ</td>\n",
       "    </tr>\n",
       "    <tr>\n",
       "      <th>3</th>\n",
       "      <td>*ićä</td>\n",
       "      <td>*emä</td>\n",
       "      <td>*ikte</td>\n",
       "      <td>*ńalɜ</td>\n",
       "      <td>*sāns</td>\n",
       "      <td>*nere</td>\n",
       "      <td>*kele</td>\n",
       "      <td>*ämpɜ</td>\n",
       "      <td>*muna</td>\n",
       "      <td>*pičɜ</td>\n",
       "      <td>*tūjt</td>\n",
       "      <td>*pilɜ</td>\n",
       "      <td>*pure</td>\n",
       "      <td>*mura</td>\n",
       "      <td>*śil'ke</td>\n",
       "      <td>*ϑasɜ</td>\n",
       "    </tr>\n",
       "    <tr>\n",
       "      <th>4</th>\n",
       "      <td>*ićä</td>\n",
       "      <td>*ava</td>\n",
       "      <td>*ikte</td>\n",
       "      <td>*kakteksan</td>\n",
       "      <td>*polwe</td>\n",
       "      <td>*nere</td>\n",
       "      <td>*jylme</td>\n",
       "      <td>*pene</td>\n",
       "      <td>*muna</td>\n",
       "      <td>*šikš</td>\n",
       "      <td>*lume</td>\n",
       "      <td>*äŋɜ</td>\n",
       "      <td>*pure</td>\n",
       "      <td>*mura</td>\n",
       "      <td>*śil'ke</td>\n",
       "      <td>*kuśka</td>\n",
       "    </tr>\n",
       "    <tr>\n",
       "      <th>5</th>\n",
       "      <td>*ićä</td>\n",
       "      <td>*emä</td>\n",
       "      <td>*ikte</td>\n",
       "      <td>*kakteksan</td>\n",
       "      <td>*polwe</td>\n",
       "      <td>*nere</td>\n",
       "      <td>*kele</td>\n",
       "      <td>*pene</td>\n",
       "      <td>*muna</td>\n",
       "      <td>*sawe</td>\n",
       "      <td>*lume</td>\n",
       "      <td>*korpe</td>\n",
       "      <td>*pure</td>\n",
       "      <td>*laulu</td>\n",
       "      <td>*śil'ke</td>\n",
       "      <td>*kujwa</td>\n",
       "    </tr>\n",
       "  </tbody>\n",
       "</table>\n",
       "</div>"
      ],
      "text/plain": [
       "  father mother    one       eight    knee   nose  tongue    dog     egg  \\\n",
       "0   *ićä   *ava  *ikte  *kakteksan  *polwe  *nere   *kele  *pene   *muna   \n",
       "1   *ićä   *emä  *ikte  *kakteksan  *polwe  *nenä   *kele  *pene   *muna   \n",
       "2   *ićä   *emä   *egy       *ńalɜ   *térd   *orr  *nyelv  *ämpɜ  *tojás   \n",
       "3   *ićä   *emä  *ikte       *ńalɜ   *sāns  *nere   *kele  *ämpɜ   *muna   \n",
       "4   *ićä   *ava  *ikte  *kakteksan  *polwe  *nere  *jylme  *pene   *muna   \n",
       "5   *ićä   *emä  *ikte  *kakteksan  *polwe  *nere   *kele  *pene   *muna   \n",
       "\n",
       "   smoke   snow   to burn to bite  to sing  to spit     dry  \n",
       "0  *sawe  *lume    *korpe   *pure    *mura  *śil'ke  *kuśka  \n",
       "1  *sawe  *lume    *korpe   *pure   *laulu  *śil'ke  *kujwa  \n",
       "2  *pičɜ    *hó  *pilɜ     *harap  *énekel     *köp   *ϑasɜ  \n",
       "3  *pičɜ  *tūjt  *pilɜ      *pure    *mura  *śil'ke   *ϑasɜ  \n",
       "4  *šikš  *lume      *äŋɜ   *pure    *mura  *śil'ke  *kuśka  \n",
       "5  *sawe  *lume    *korpe   *pure   *laulu  *śil'ke  *kujwa  "
      ]
     },
     "execution_count": 132,
     "metadata": {},
     "output_type": "execute_result"
    }
   ],
   "source": [
    "df = pd.read_excel(\"Hw1-words.xlsx\", sheet_name='Proto-words')  # Replace 'Sheet1' with the name of the sheet you want to read\n",
    "df"
   ]
  },
  {
   "cell_type": "code",
   "execution_count": 133,
   "id": "8fee7ce0-9481-46e7-b430-3adfac1fce56",
   "metadata": {
    "tags": []
   },
   "outputs": [
    {
     "data": {
      "text/plain": [
       "Index(['father', 'mother', 'one', 'eight', 'knee', 'nose', 'tongue', 'dog',\n",
       "       'egg', 'smoke', 'snow', 'to burn', 'to bite', 'to sing', 'to spit',\n",
       "       'dry'],\n",
       "      dtype='object')"
      ]
     },
     "execution_count": 133,
     "metadata": {},
     "output_type": "execute_result"
    }
   ],
   "source": [
    "df.columns"
   ]
  },
  {
   "cell_type": "code",
   "execution_count": 134,
   "id": "5a73b58c-9eef-4c11-9692-b05c857ae4e4",
   "metadata": {
    "tags": []
   },
   "outputs": [
    {
     "data": {
      "text/plain": [
       "[['*ićä', '*ićä', '*ićä', '*ićä', '*ićä', '*ićä'],\n",
       " ['*ava', '*emä', '*emä', '*emä', '*ava', '*emä'],\n",
       " ['*ikte', '*ikte', '*egy', '*ikte', '*ikte', '*ikte'],\n",
       " ['*kakteksan', '*kakteksan', '*ńalɜ', '*ńalɜ', '*kakteksan', '*kakteksan'],\n",
       " ['*polwe', '*polwe', '*térd', '*sāns', '*polwe', '*polwe'],\n",
       " ['*nere', '*nenä', '*orr', '*nere', '*nere', '*nere'],\n",
       " ['*kele', '*kele', '*nyelv', '*kele', '*jylme', '*kele'],\n",
       " ['*pene', '*pene', '*ämpɜ', '*ämpɜ', '*pene', '*pene'],\n",
       " ['*muna', '*muna', '*tojás', '*muna', '*muna', '*muna'],\n",
       " ['*sawe', '*sawe', '*pičɜ', '*pičɜ', '*šikš', '*sawe'],\n",
       " ['*lume', '*lume', '*hó', '*tūjt', '*lume', '*lume'],\n",
       " ['*korpe', '*korpe', '*pilɜ   ', '*pilɜ   ', '*äŋɜ', '*korpe'],\n",
       " ['*pure', '*pure', '*harap', '*pure', '*pure', '*pure'],\n",
       " ['*mura', '*laulu', '*énekel', '*mura', '*mura', '*laulu'],\n",
       " [\"*śil'ke\", \"*śil'ke\", '*köp', \"*śil'ke\", \"*śil'ke\", \"*śil'ke\"],\n",
       " ['*kuśka', '*kujwa', '*ϑasɜ', '*ϑasɜ', '*kuśka', '*kujwa']]"
      ]
     },
     "execution_count": 134,
     "metadata": {},
     "output_type": "execute_result"
    }
   ],
   "source": [
    "word_list = []\n",
    "for i, column in enumerate(df.columns):\n",
    "    # print(i, column)\n",
    "    word_list.append(df[column].tolist())\n",
    "# word_list = word_list.tolist()\n",
    "word_list"
   ]
  },
  {
   "cell_type": "code",
   "execution_count": 135,
   "id": "ecaca5e5-859a-4d73-83df-792f6c0039b8",
   "metadata": {
    "tags": []
   },
   "outputs": [
    {
     "name": "stdout",
     "output_type": "stream",
     "text": [
      "['*ava' '*egy' '*emä' '*harap' '*hó' '*ikte' '*ićä' '*jylme' '*kakteksan'\n",
      " '*kele' '*korpe' '*kujwa' '*kuśka' '*köp' '*laulu' '*lume' '*muna'\n",
      " '*mura' '*nenä' '*nere' '*nyelv' '*orr' '*pene' '*pilɜ   ' '*pičɜ'\n",
      " '*polwe' '*pure' '*sawe' '*sāns' '*tojás' '*térd' '*tūjt' '*ämpɜ' '*äŋɜ'\n",
      " '*énekel' '*ńalɜ' \"*śil'ke\" '*šikš' '*ϑasɜ']\n",
      "39\n"
     ]
    }
   ],
   "source": [
    "values_list_flat = [val for sublist in df.values.tolist() for val in sublist]\n",
    "uniques = np.unique(values_list_flat)\n",
    "print(uniques)\n",
    "print (len(uniques))"
   ]
  },
  {
   "cell_type": "code",
   "execution_count": 136,
   "id": "6b3bfcb8-b5b8-4b5a-9482-c40f081aacf0",
   "metadata": {
    "tags": []
   },
   "outputs": [
    {
     "data": {
      "text/plain": [
       "39"
      ]
     },
     "execution_count": 136,
     "metadata": {},
     "output_type": "execute_result"
    }
   ],
   "source": [
    "keys = list('ABCDEFGHIJKLMNOPQRSTUVWXYZabcdefghijklm')\n",
    "len(keys)"
   ]
  },
  {
   "cell_type": "code",
   "execution_count": 137,
   "id": "74315297-da82-4453-8443-f2c6ba3c445c",
   "metadata": {
    "tags": []
   },
   "outputs": [],
   "source": [
    "proto_dict = dict(zip(uniques, keys))"
   ]
  },
  {
   "cell_type": "code",
   "execution_count": 138,
   "id": "03070aa0-74f2-49ed-a59b-df6e48903db7",
   "metadata": {
    "tags": []
   },
   "outputs": [],
   "source": [
    "# proto_dict"
   ]
  },
  {
   "cell_type": "code",
   "execution_count": 139,
   "id": "33f4e2bc-6ed5-4e80-850e-2c7c9b83c813",
   "metadata": {
    "tags": []
   },
   "outputs": [],
   "source": [
    "df.replace(proto_dict, inplace=True)"
   ]
  },
  {
   "cell_type": "code",
   "execution_count": 140,
   "id": "f0538034-bb33-4252-b0e8-83e81d924f10",
   "metadata": {
    "tags": []
   },
   "outputs": [
    {
     "data": {
      "text/html": [
       "<div>\n",
       "<style scoped>\n",
       "    .dataframe tbody tr th:only-of-type {\n",
       "        vertical-align: middle;\n",
       "    }\n",
       "\n",
       "    .dataframe tbody tr th {\n",
       "        vertical-align: top;\n",
       "    }\n",
       "\n",
       "    .dataframe thead th {\n",
       "        text-align: right;\n",
       "    }\n",
       "</style>\n",
       "<table border=\"1\" class=\"dataframe\">\n",
       "  <thead>\n",
       "    <tr style=\"text-align: right;\">\n",
       "      <th></th>\n",
       "      <th>father</th>\n",
       "      <th>mother</th>\n",
       "      <th>one</th>\n",
       "      <th>eight</th>\n",
       "      <th>knee</th>\n",
       "      <th>nose</th>\n",
       "      <th>tongue</th>\n",
       "      <th>dog</th>\n",
       "      <th>egg</th>\n",
       "      <th>smoke</th>\n",
       "      <th>snow</th>\n",
       "      <th>to burn</th>\n",
       "      <th>to bite</th>\n",
       "      <th>to sing</th>\n",
       "      <th>to spit</th>\n",
       "      <th>dry</th>\n",
       "    </tr>\n",
       "  </thead>\n",
       "  <tbody>\n",
       "    <tr>\n",
       "      <th>0</th>\n",
       "      <td>G</td>\n",
       "      <td>A</td>\n",
       "      <td>F</td>\n",
       "      <td>I</td>\n",
       "      <td>Z</td>\n",
       "      <td>T</td>\n",
       "      <td>J</td>\n",
       "      <td>W</td>\n",
       "      <td>Q</td>\n",
       "      <td>b</td>\n",
       "      <td>P</td>\n",
       "      <td>K</td>\n",
       "      <td>a</td>\n",
       "      <td>R</td>\n",
       "      <td>k</td>\n",
       "      <td>M</td>\n",
       "    </tr>\n",
       "    <tr>\n",
       "      <th>1</th>\n",
       "      <td>G</td>\n",
       "      <td>C</td>\n",
       "      <td>F</td>\n",
       "      <td>I</td>\n",
       "      <td>Z</td>\n",
       "      <td>S</td>\n",
       "      <td>J</td>\n",
       "      <td>W</td>\n",
       "      <td>Q</td>\n",
       "      <td>b</td>\n",
       "      <td>P</td>\n",
       "      <td>K</td>\n",
       "      <td>a</td>\n",
       "      <td>O</td>\n",
       "      <td>k</td>\n",
       "      <td>L</td>\n",
       "    </tr>\n",
       "    <tr>\n",
       "      <th>2</th>\n",
       "      <td>G</td>\n",
       "      <td>C</td>\n",
       "      <td>B</td>\n",
       "      <td>j</td>\n",
       "      <td>e</td>\n",
       "      <td>V</td>\n",
       "      <td>U</td>\n",
       "      <td>g</td>\n",
       "      <td>d</td>\n",
       "      <td>Y</td>\n",
       "      <td>E</td>\n",
       "      <td>X</td>\n",
       "      <td>D</td>\n",
       "      <td>i</td>\n",
       "      <td>N</td>\n",
       "      <td>m</td>\n",
       "    </tr>\n",
       "    <tr>\n",
       "      <th>3</th>\n",
       "      <td>G</td>\n",
       "      <td>C</td>\n",
       "      <td>F</td>\n",
       "      <td>j</td>\n",
       "      <td>c</td>\n",
       "      <td>T</td>\n",
       "      <td>J</td>\n",
       "      <td>g</td>\n",
       "      <td>Q</td>\n",
       "      <td>Y</td>\n",
       "      <td>f</td>\n",
       "      <td>X</td>\n",
       "      <td>a</td>\n",
       "      <td>R</td>\n",
       "      <td>k</td>\n",
       "      <td>m</td>\n",
       "    </tr>\n",
       "    <tr>\n",
       "      <th>4</th>\n",
       "      <td>G</td>\n",
       "      <td>A</td>\n",
       "      <td>F</td>\n",
       "      <td>I</td>\n",
       "      <td>Z</td>\n",
       "      <td>T</td>\n",
       "      <td>H</td>\n",
       "      <td>W</td>\n",
       "      <td>Q</td>\n",
       "      <td>l</td>\n",
       "      <td>P</td>\n",
       "      <td>h</td>\n",
       "      <td>a</td>\n",
       "      <td>R</td>\n",
       "      <td>k</td>\n",
       "      <td>M</td>\n",
       "    </tr>\n",
       "    <tr>\n",
       "      <th>5</th>\n",
       "      <td>G</td>\n",
       "      <td>C</td>\n",
       "      <td>F</td>\n",
       "      <td>I</td>\n",
       "      <td>Z</td>\n",
       "      <td>T</td>\n",
       "      <td>J</td>\n",
       "      <td>W</td>\n",
       "      <td>Q</td>\n",
       "      <td>b</td>\n",
       "      <td>P</td>\n",
       "      <td>K</td>\n",
       "      <td>a</td>\n",
       "      <td>O</td>\n",
       "      <td>k</td>\n",
       "      <td>L</td>\n",
       "    </tr>\n",
       "  </tbody>\n",
       "</table>\n",
       "</div>"
      ],
      "text/plain": [
       "  father mother one eight knee nose tongue dog egg smoke snow to burn to bite  \\\n",
       "0      G      A   F     I    Z    T      J   W   Q     b    P       K       a   \n",
       "1      G      C   F     I    Z    S      J   W   Q     b    P       K       a   \n",
       "2      G      C   B     j    e    V      U   g   d     Y    E       X       D   \n",
       "3      G      C   F     j    c    T      J   g   Q     Y    f       X       a   \n",
       "4      G      A   F     I    Z    T      H   W   Q     l    P       h       a   \n",
       "5      G      C   F     I    Z    T      J   W   Q     b    P       K       a   \n",
       "\n",
       "  to sing to spit dry  \n",
       "0       R       k   M  \n",
       "1       O       k   L  \n",
       "2       i       N   m  \n",
       "3       R       k   m  \n",
       "4       R       k   M  \n",
       "5       O       k   L  "
      ]
     },
     "execution_count": 140,
     "metadata": {},
     "output_type": "execute_result"
    }
   ],
   "source": [
    "df"
   ]
  },
  {
   "cell_type": "code",
   "execution_count": 141,
   "id": "8d39980c-0651-42c0-8d6e-fbf84a0c01c7",
   "metadata": {
    "tags": []
   },
   "outputs": [
    {
     "name": "stdout",
     "output_type": "stream",
     "text": [
      "['S1', 'S2', 'S3', 'S4', 'S5', 'S6']\n"
     ]
    }
   ],
   "source": [
    "matrix_size = df.shape[0]\n",
    "NameIndexed = []\n",
    "for i in range(matrix_size):\n",
    "    NameIndexed.append(\"S\"+str(i+1))\n",
    "print(NameIndexed)"
   ]
  },
  {
   "cell_type": "code",
   "execution_count": 142,
   "id": "3d8306db-eb39-4e59-873d-859eb68d628a",
   "metadata": {
    "tags": []
   },
   "outputs": [],
   "source": [
    "distance_matrix.columns = NameIndexed\n",
    "distance_matrix = pd.DataFrame(distance_matrix, index=NameIndexed)"
   ]
  },
  {
   "cell_type": "code",
   "execution_count": 143,
   "id": "80fcfeb5-3420-48e9-821b-0d55583cd3d9",
   "metadata": {
    "tags": []
   },
   "outputs": [
    {
     "data": {
      "text/plain": [
       "(6, 6)"
      ]
     },
     "execution_count": 143,
     "metadata": {},
     "output_type": "execute_result"
    }
   ],
   "source": [
    "distance_matrix.shape"
   ]
  },
  {
   "cell_type": "code",
   "execution_count": 144,
   "id": "23472ca8-9115-48f4-b873-ff727db6936a",
   "metadata": {
    "tags": []
   },
   "outputs": [
    {
     "name": "stdout",
     "output_type": "stream",
     "text": [
      "Distance between row 0 and 0 Distance = 0\n",
      "Distance between row 0 and 1 Distance = 4\n",
      "Distance between row 0 and 2 Distance = 15\n",
      "Distance between row 0 and 3 Distance = 8\n",
      "Distance between row 0 and 4 Distance = 3\n",
      "Distance between row 0 and 5 Distance = 3\n",
      "Distance between row 1 and 1 Distance = 0\n",
      "Distance between row 1 and 2 Distance = 14\n",
      "Distance between row 1 and 3 Distance = 9\n",
      "Distance between row 1 and 4 Distance = 7\n",
      "Distance between row 1 and 5 Distance = 1\n",
      "Distance between row 2 and 2 Distance = 0\n",
      "Distance between row 2 and 3 Distance = 9\n",
      "Distance between row 2 and 4 Distance = 15\n",
      "Distance between row 2 and 5 Distance = 14\n",
      "Distance between row 3 and 3 Distance = 0\n",
      "Distance between row 3 and 4 Distance = 9\n",
      "Distance between row 3 and 5 Distance = 8\n",
      "Distance between row 4 and 4 Distance = 0\n",
      "Distance between row 4 and 5 Distance = 6\n",
      "Distance between row 5 and 5 Distance = 0\n"
     ]
    },
    {
     "data": {
      "text/html": [
       "<div>\n",
       "<style scoped>\n",
       "    .dataframe tbody tr th:only-of-type {\n",
       "        vertical-align: middle;\n",
       "    }\n",
       "\n",
       "    .dataframe tbody tr th {\n",
       "        vertical-align: top;\n",
       "    }\n",
       "\n",
       "    .dataframe thead th {\n",
       "        text-align: right;\n",
       "    }\n",
       "</style>\n",
       "<table border=\"1\" class=\"dataframe\">\n",
       "  <thead>\n",
       "    <tr style=\"text-align: right;\">\n",
       "      <th></th>\n",
       "      <th>S1</th>\n",
       "      <th>S2</th>\n",
       "      <th>S3</th>\n",
       "      <th>S4</th>\n",
       "      <th>S5</th>\n",
       "      <th>S6</th>\n",
       "    </tr>\n",
       "  </thead>\n",
       "  <tbody>\n",
       "    <tr>\n",
       "      <th>S1</th>\n",
       "      <td>0</td>\n",
       "      <td>4</td>\n",
       "      <td>15</td>\n",
       "      <td>8</td>\n",
       "      <td>3</td>\n",
       "      <td>3</td>\n",
       "    </tr>\n",
       "    <tr>\n",
       "      <th>S2</th>\n",
       "      <td>NaN</td>\n",
       "      <td>0</td>\n",
       "      <td>14</td>\n",
       "      <td>9</td>\n",
       "      <td>7</td>\n",
       "      <td>1</td>\n",
       "    </tr>\n",
       "    <tr>\n",
       "      <th>S3</th>\n",
       "      <td>NaN</td>\n",
       "      <td>NaN</td>\n",
       "      <td>0</td>\n",
       "      <td>9</td>\n",
       "      <td>15</td>\n",
       "      <td>14</td>\n",
       "    </tr>\n",
       "    <tr>\n",
       "      <th>S4</th>\n",
       "      <td>NaN</td>\n",
       "      <td>NaN</td>\n",
       "      <td>NaN</td>\n",
       "      <td>0</td>\n",
       "      <td>9</td>\n",
       "      <td>8</td>\n",
       "    </tr>\n",
       "    <tr>\n",
       "      <th>S5</th>\n",
       "      <td>NaN</td>\n",
       "      <td>NaN</td>\n",
       "      <td>NaN</td>\n",
       "      <td>NaN</td>\n",
       "      <td>0</td>\n",
       "      <td>6</td>\n",
       "    </tr>\n",
       "    <tr>\n",
       "      <th>S6</th>\n",
       "      <td>NaN</td>\n",
       "      <td>NaN</td>\n",
       "      <td>NaN</td>\n",
       "      <td>NaN</td>\n",
       "      <td>NaN</td>\n",
       "      <td>0</td>\n",
       "    </tr>\n",
       "  </tbody>\n",
       "</table>\n",
       "</div>"
      ],
      "text/plain": [
       "     S1   S2   S3   S4   S5  S6\n",
       "S1    0    4   15    8    3   3\n",
       "S2  NaN    0   14    9    7   1\n",
       "S3  NaN  NaN    0    9   15  14\n",
       "S4  NaN  NaN  NaN    0    9   8\n",
       "S5  NaN  NaN  NaN  NaN    0   6\n",
       "S6  NaN  NaN  NaN  NaN  NaN   0"
      ]
     },
     "execution_count": 144,
     "metadata": {},
     "output_type": "execute_result"
    }
   ],
   "source": [
    "min_value_location = []\n",
    "min_value = 999999\n",
    "for i in range (matrix_size):\n",
    "    for j in range (matrix_size-i,0,-1):\n",
    "        col=matrix_size-j\n",
    "        row =i\n",
    "        row1 = df.iloc[row]\n",
    "        row2 = df.iloc[col]\n",
    "        distance = (row1 != row2).sum()\n",
    "        # if distance==0:\n",
    "        #     distance = np.nan\n",
    "        if min_value>distance and distance!=0:\n",
    "            min_value = distance\n",
    "            min_value_location = (row,col)        \n",
    "        print(f\"Distance between row {row} and {col}\", \"Distance =\", distance)\n",
    "        distance_matrix.iloc[row,col]=distance #str(row) +\" ,\"+ str(col)\n",
    "distance_matrix"
   ]
  },
  {
   "cell_type": "code",
   "execution_count": 145,
   "id": "a72b9b75-f9ef-43c3-abab-9418983974d7",
   "metadata": {
    "tags": []
   },
   "outputs": [
    {
     "data": {
      "text/plain": [
       "(1, 5)"
      ]
     },
     "execution_count": 145,
     "metadata": {},
     "output_type": "execute_result"
    }
   ],
   "source": [
    "min_value_location"
   ]
  },
  {
   "cell_type": "code",
   "execution_count": 158,
   "id": "046ebae5-d425-4546-89f7-bf2bc9fe38bf",
   "metadata": {},
   "outputs": [],
   "source": [
    "lowerIndex, upperIndex = min_value_location"
   ]
  },
  {
   "cell_type": "code",
   "execution_count": 205,
   "id": "60a90e18-6fe2-4115-8bd5-a08581867bec",
   "metadata": {},
   "outputs": [],
   "source": [
    "distance_matrix_l1 = distance_matrix.copy()"
   ]
  },
  {
   "cell_type": "code",
   "execution_count": 206,
   "id": "9da3aaa7-1f1f-4015-a4df-1b8f3c081b32",
   "metadata": {},
   "outputs": [],
   "source": [
    "distance_matrix_l1.drop(distance_matrix_l1.columns[upperIndex], axis=1, inplace=True)\n",
    "distance_matrix_l1.drop(distance_matrix_l1.columns[lowerIndex], axis=1, inplace=True)\n",
    "\n",
    "distance_matrix_l1.drop(distance_matrix_l1.index[upperIndex], inplace=True)\n",
    "distance_matrix_l1.drop(distance_matrix_l1.index[lowerIndex], inplace=True)\n"
   ]
  },
  {
   "cell_type": "code",
   "execution_count": 207,
   "id": "f9a6b1ab-f7c3-4784-a10e-fc761fc00c4c",
   "metadata": {},
   "outputs": [],
   "source": [
    "# # Rename column 'B' to 'New_B' at index 1\n",
    "# distance_matrix_l1.rename(columns={distance_matrix_l1.columns[1]: f\"S{lowerIndex}{upperIndex}\"}, inplace=True)\n",
    "# distance_matrix_l1.rename(columns={distance_matrix_l1.columns[1]: f\"S{lowerIndex}{upperIndex}\"}, inplace=True)\n",
    "\n",
    "# # Rename the row at index 1 to 'Row_1'\n",
    "# distance_matrix_l1.rename(index={distance_matrix_l1.index[1]: f\"S{lowerIndex}{upperIndex}\"}, inplace=True)\n",
    "# distance_matrix_l1.rename(index={distance_matrix_l1.index[1]: f\"S{lowerIndex}{upperIndex}\"}, inplace=True)"
   ]
  },
  {
   "cell_type": "code",
   "execution_count": null,
   "id": "af2e95c2-a838-4f46-81d7-261b8eeff8ce",
   "metadata": {},
   "outputs": [],
   "source": []
  },
  {
   "cell_type": "code",
   "execution_count": 208,
   "id": "eacc511b-9715-4c01-9586-7976da5a750c",
   "metadata": {},
   "outputs": [
    {
     "data": {
      "text/html": [
       "<div>\n",
       "<style scoped>\n",
       "    .dataframe tbody tr th:only-of-type {\n",
       "        vertical-align: middle;\n",
       "    }\n",
       "\n",
       "    .dataframe tbody tr th {\n",
       "        vertical-align: top;\n",
       "    }\n",
       "\n",
       "    .dataframe thead th {\n",
       "        text-align: right;\n",
       "    }\n",
       "</style>\n",
       "<table border=\"1\" class=\"dataframe\">\n",
       "  <thead>\n",
       "    <tr style=\"text-align: right;\">\n",
       "      <th></th>\n",
       "      <th>S1</th>\n",
       "      <th>S3</th>\n",
       "      <th>S4</th>\n",
       "      <th>S5</th>\n",
       "    </tr>\n",
       "  </thead>\n",
       "  <tbody>\n",
       "    <tr>\n",
       "      <th>S1</th>\n",
       "      <td>0</td>\n",
       "      <td>15</td>\n",
       "      <td>8</td>\n",
       "      <td>3</td>\n",
       "    </tr>\n",
       "    <tr>\n",
       "      <th>S3</th>\n",
       "      <td>NaN</td>\n",
       "      <td>0</td>\n",
       "      <td>9</td>\n",
       "      <td>15</td>\n",
       "    </tr>\n",
       "    <tr>\n",
       "      <th>S4</th>\n",
       "      <td>NaN</td>\n",
       "      <td>NaN</td>\n",
       "      <td>0</td>\n",
       "      <td>9</td>\n",
       "    </tr>\n",
       "    <tr>\n",
       "      <th>S5</th>\n",
       "      <td>NaN</td>\n",
       "      <td>NaN</td>\n",
       "      <td>NaN</td>\n",
       "      <td>0</td>\n",
       "    </tr>\n",
       "  </tbody>\n",
       "</table>\n",
       "</div>"
      ],
      "text/plain": [
       "     S1   S3   S4  S5\n",
       "S1    0   15    8   3\n",
       "S3  NaN    0    9  15\n",
       "S4  NaN  NaN    0   9\n",
       "S5  NaN  NaN  NaN   0"
      ]
     },
     "execution_count": 208,
     "metadata": {},
     "output_type": "execute_result"
    }
   ],
   "source": [
    "distance_matrix_l1"
   ]
  },
  {
   "cell_type": "code",
   "execution_count": 209,
   "id": "d7a2a9a9-fa37-4053-b034-06886b916a0d",
   "metadata": {},
   "outputs": [],
   "source": [
    "distance_matrix_l1.iloc[lowerIndex, :] = np.nan"
   ]
  },
  {
   "cell_type": "code",
   "execution_count": 210,
   "id": "10bc39d3-6fae-426b-8a71-952fc3abede2",
   "metadata": {},
   "outputs": [],
   "source": [
    "distance_matrix_l1.insert(0, f\"S{lowerIndex}{upperIndex}\", np.nan)\n"
   ]
  },
  {
   "cell_type": "code",
   "execution_count": 211,
   "id": "9207e47d-26d1-46d9-b9de-7359431623ee",
   "metadata": {},
   "outputs": [
    {
     "data": {
      "text/html": [
       "<div>\n",
       "<style scoped>\n",
       "    .dataframe tbody tr th:only-of-type {\n",
       "        vertical-align: middle;\n",
       "    }\n",
       "\n",
       "    .dataframe tbody tr th {\n",
       "        vertical-align: top;\n",
       "    }\n",
       "\n",
       "    .dataframe thead th {\n",
       "        text-align: right;\n",
       "    }\n",
       "</style>\n",
       "<table border=\"1\" class=\"dataframe\">\n",
       "  <thead>\n",
       "    <tr style=\"text-align: right;\">\n",
       "      <th></th>\n",
       "      <th>S15</th>\n",
       "      <th>S1</th>\n",
       "      <th>S3</th>\n",
       "      <th>S4</th>\n",
       "      <th>S5</th>\n",
       "    </tr>\n",
       "  </thead>\n",
       "  <tbody>\n",
       "    <tr>\n",
       "      <th>S1</th>\n",
       "      <td>NaN</td>\n",
       "      <td>0</td>\n",
       "      <td>15</td>\n",
       "      <td>8</td>\n",
       "      <td>3</td>\n",
       "    </tr>\n",
       "    <tr>\n",
       "      <th>S3</th>\n",
       "      <td>NaN</td>\n",
       "      <td>NaN</td>\n",
       "      <td>NaN</td>\n",
       "      <td>NaN</td>\n",
       "      <td>NaN</td>\n",
       "    </tr>\n",
       "    <tr>\n",
       "      <th>S4</th>\n",
       "      <td>NaN</td>\n",
       "      <td>NaN</td>\n",
       "      <td>NaN</td>\n",
       "      <td>0</td>\n",
       "      <td>9</td>\n",
       "    </tr>\n",
       "    <tr>\n",
       "      <th>S5</th>\n",
       "      <td>NaN</td>\n",
       "      <td>NaN</td>\n",
       "      <td>NaN</td>\n",
       "      <td>NaN</td>\n",
       "      <td>0</td>\n",
       "    </tr>\n",
       "  </tbody>\n",
       "</table>\n",
       "</div>"
      ],
      "text/plain": [
       "    S15   S1   S3   S4   S5\n",
       "S1  NaN    0   15    8    3\n",
       "S3  NaN  NaN  NaN  NaN  NaN\n",
       "S4  NaN  NaN  NaN    0    9\n",
       "S5  NaN  NaN  NaN  NaN    0"
      ]
     },
     "execution_count": 211,
     "metadata": {},
     "output_type": "execute_result"
    }
   ],
   "source": [
    "distance_matrix_l1"
   ]
  },
  {
   "cell_type": "code",
   "execution_count": 212,
   "id": "9d9fb6b1-e232-4576-a486-72b747fb7945",
   "metadata": {},
   "outputs": [],
   "source": [
    "dfnew = pd.DataFrame(distance_matrix_l1.iloc[2], index=[0])"
   ]
  },
  {
   "cell_type": "raw",
   "id": "a91bf707-e651-4b15-8e29-eaa44454e195",
   "metadata": {},
   "source": [
    "dfnew"
   ]
  },
  {
   "cell_type": "code",
   "execution_count": 192,
   "id": "a449c18c-5745-408c-9bb6-0150504dc286",
   "metadata": {},
   "outputs": [
    {
     "data": {
      "text/plain": [
       "(4, 5)"
      ]
     },
     "execution_count": 192,
     "metadata": {},
     "output_type": "execute_result"
    }
   ],
   "source": [
    "distance_matrix_l1.shape"
   ]
  },
  {
   "cell_type": "code",
   "execution_count": 157,
   "id": "6548a0a8-7b3f-42f4-a9e1-bd156f59e7f5",
   "metadata": {},
   "outputs": [],
   "source": [
    "new_distance_matrix = pd.DataFrame()\n",
    "drop_index = max(min_value_location)\n",
    "minIndex = min(min_value_location)"
   ]
  },
  {
   "cell_type": "code",
   "execution_count": 147,
   "id": "95a1dcdb-fc41-4a5c-a5f6-216b851bd5b2",
   "metadata": {},
   "outputs": [
    {
     "data": {
      "text/plain": [
       "5"
      ]
     },
     "execution_count": 147,
     "metadata": {},
     "output_type": "execute_result"
    }
   ],
   "source": [
    "drop_index"
   ]
  },
  {
   "cell_type": "code",
   "execution_count": 151,
   "id": "82e6d1de-a788-49b1-a211-cb9ebe380f2e",
   "metadata": {},
   "outputs": [],
   "source": [
    "distance_matrix_l1 = distance_matrix.copy()\n"
   ]
  },
  {
   "cell_type": "code",
   "execution_count": 152,
   "id": "6072bce6-e1a3-414e-a163-e35c2fd7143a",
   "metadata": {},
   "outputs": [],
   "source": [
    "distance_matrix_l1.drop(distance_matrix_l1.columns[min_value_location], axis=1, inplace=True)"
   ]
  },
  {
   "cell_type": "code",
   "execution_count": 155,
   "id": "849416ac-f78f-4244-9e3f-d8d6e7792c4e",
   "metadata": {},
   "outputs": [],
   "source": [
    "distance_matrix_l1.drop(distance_matrix_l1.index[drop_index], inplace=True)"
   ]
  },
  {
   "cell_type": "code",
   "execution_count": null,
   "id": "10047116-fe8d-48fd-bd46-50effcb98b97",
   "metadata": {},
   "outputs": [],
   "source": [
    "# "
   ]
  },
  {
   "cell_type": "code",
   "execution_count": 156,
   "id": "9bd36b71-1a4c-446e-acda-6f824cae507c",
   "metadata": {},
   "outputs": [
    {
     "data": {
      "text/html": [
       "<div>\n",
       "<style scoped>\n",
       "    .dataframe tbody tr th:only-of-type {\n",
       "        vertical-align: middle;\n",
       "    }\n",
       "\n",
       "    .dataframe tbody tr th {\n",
       "        vertical-align: top;\n",
       "    }\n",
       "\n",
       "    .dataframe thead th {\n",
       "        text-align: right;\n",
       "    }\n",
       "</style>\n",
       "<table border=\"1\" class=\"dataframe\">\n",
       "  <thead>\n",
       "    <tr style=\"text-align: right;\">\n",
       "      <th></th>\n",
       "      <th>S1</th>\n",
       "      <th>S2</th>\n",
       "      <th>S3</th>\n",
       "      <th>S4</th>\n",
       "      <th>S5</th>\n",
       "    </tr>\n",
       "  </thead>\n",
       "  <tbody>\n",
       "    <tr>\n",
       "      <th>S1</th>\n",
       "      <td>0</td>\n",
       "      <td>4</td>\n",
       "      <td>15</td>\n",
       "      <td>8</td>\n",
       "      <td>3</td>\n",
       "    </tr>\n",
       "    <tr>\n",
       "      <th>S2</th>\n",
       "      <td>NaN</td>\n",
       "      <td>0</td>\n",
       "      <td>14</td>\n",
       "      <td>9</td>\n",
       "      <td>7</td>\n",
       "    </tr>\n",
       "    <tr>\n",
       "      <th>S3</th>\n",
       "      <td>NaN</td>\n",
       "      <td>NaN</td>\n",
       "      <td>0</td>\n",
       "      <td>9</td>\n",
       "      <td>15</td>\n",
       "    </tr>\n",
       "    <tr>\n",
       "      <th>S4</th>\n",
       "      <td>NaN</td>\n",
       "      <td>NaN</td>\n",
       "      <td>NaN</td>\n",
       "      <td>0</td>\n",
       "      <td>9</td>\n",
       "    </tr>\n",
       "    <tr>\n",
       "      <th>S5</th>\n",
       "      <td>NaN</td>\n",
       "      <td>NaN</td>\n",
       "      <td>NaN</td>\n",
       "      <td>NaN</td>\n",
       "      <td>0</td>\n",
       "    </tr>\n",
       "  </tbody>\n",
       "</table>\n",
       "</div>"
      ],
      "text/plain": [
       "     S1   S2   S3   S4  S5\n",
       "S1    0    4   15    8   3\n",
       "S2  NaN    0   14    9   7\n",
       "S3  NaN  NaN    0    9  15\n",
       "S4  NaN  NaN  NaN    0   9\n",
       "S5  NaN  NaN  NaN  NaN   0"
      ]
     },
     "execution_count": 156,
     "metadata": {},
     "output_type": "execute_result"
    }
   ],
   "source": [
    "distance_matrix_l1"
   ]
  },
  {
   "cell_type": "code",
   "execution_count": 150,
   "id": "dea130d2-169c-4045-9323-1e55a9a674a9",
   "metadata": {},
   "outputs": [],
   "source": [
    "distance_matrix_drop1 = distance_matrix.drop(distance_matrix.columns[drop_index], axis=1)\n"
   ]
  },
  {
   "cell_type": "code",
   "execution_count": null,
   "id": "9fc42d3b-8acf-4496-8476-f75c052654c4",
   "metadata": {},
   "outputs": [],
   "source": [
    "NameIndexed"
   ]
  },
  {
   "cell_type": "code",
   "execution_count": null,
   "id": "29043ef0-ea14-458e-9825-ba0b260757ee",
   "metadata": {},
   "outputs": [],
   "source": [
    "distance_matrix.columns = NameIndexed\n",
    "distance_matrix = pd.DataFrame(distance_matrix, index=NameIndexed)"
   ]
  },
  {
   "cell_type": "code",
   "execution_count": null,
   "id": "ab7c6b68-79d7-4f4b-a853-425e1b9c4375",
   "metadata": {},
   "outputs": [],
   "source": []
  },
  {
   "cell_type": "code",
   "execution_count": null,
   "id": "6c7bc725-3fa5-4f52-8c65-8e4f5f0c43b9",
   "metadata": {},
   "outputs": [],
   "source": []
  },
  {
   "cell_type": "code",
   "execution_count": null,
   "id": "d69d0046-81b3-4818-9a86-30b0c70d4ac2",
   "metadata": {},
   "outputs": [],
   "source": [
    "new_distance_matrix = "
   ]
  }
 ],
 "metadata": {
  "kernelspec": {
   "display_name": "Python 3 (ipykernel)",
   "language": "python",
   "name": "python3"
  },
  "language_info": {
   "codemirror_mode": {
    "name": "ipython",
    "version": 3
   },
   "file_extension": ".py",
   "mimetype": "text/x-python",
   "name": "python",
   "nbconvert_exporter": "python",
   "pygments_lexer": "ipython3",
   "version": "3.9.6"
  }
 },
 "nbformat": 4,
 "nbformat_minor": 5
}
