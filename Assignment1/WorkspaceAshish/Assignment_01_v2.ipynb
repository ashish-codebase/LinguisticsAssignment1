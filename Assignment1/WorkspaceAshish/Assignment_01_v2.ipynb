{
 "cells": [
  {
   "cell_type": "code",
   "execution_count": 1,
   "id": "b488db64-44d2-4866-87ab-258105c85e0b",
   "metadata": {
    "editable": true,
    "slideshow": {
     "slide_type": ""
    },
    "tags": []
   },
   "outputs": [],
   "source": [
    "import pandas as pd\n",
    "import numpy as np"
   ]
  },
  {
   "cell_type": "code",
   "execution_count": 2,
   "id": "8200ba28-281d-430a-87ff-6995d6684d55",
   "metadata": {},
   "outputs": [],
   "source": [
    "class Location:\n",
    "    row:int\n",
    "    col:int\n",
    "    def __init__(self, row, col) -> None:\n",
    "        self.row=row\n",
    "        self.col=col\n",
    "    def text(self):\n",
    "        print(self.row, self.col)"
   ]
  },
  {
   "cell_type": "code",
   "execution_count": 3,
   "id": "298e39dc-46cf-4de2-984a-94b7fee09b93",
   "metadata": {},
   "outputs": [],
   "source": [
    "def getMinLocation(distance_matrix_l1_init:pd.DataFrame):\n",
    "    matrix2min = 9999\n",
    "    matrix2RowColMin=Location(9999,9999)\n",
    "    matrixsize = distance_matrix_l1_init.shape[0]\n",
    "    for i in range(matrixsize):\n",
    "        for j in range(matrixsize):\n",
    "            if distance_matrix_l1_init.iloc[i,j]<matrix2min and distance_matrix_l1_init.iloc[i,j]>0:\n",
    "                matrix2min = distance_matrix_l1_init.iloc[i,j]\n",
    "                matrix2RowColMin = Location(i,j)\n",
    "    print(\"Min Location==>\",matrix2RowColMin.text, \"Min value==>\", matrix2min)\n",
    "    print(\"Row==>\", distance_matrix_l1_init.columns[matrix2RowColMin.row], \"Col==>\",distance_matrix_l1_init.columns[matrix2RowColMin.col] )\n",
    "    return matrix2RowColMin"
   ]
  },
  {
   "cell_type": "code",
   "execution_count": 4,
   "id": "f59afdb8-b751-4a01-852c-71ce5c835a60",
   "metadata": {},
   "outputs": [],
   "source": [
    "def updateDistances (distanceMatrix:pd.DataFrame, minLocation):\n",
    "    distance_matrix_l1_init = distanceMatrix.copy()\n",
    "    colNames = distance_matrix_l1_init.columns\n",
    "#     lowerIndex, upperIndex\n",
    "    comboCol1Name = f\"S{minLocation[0]+1}\"\n",
    "    comboCol2Name = f\"S{minLocation[1]+1}\"\n",
    "    for i in range(1, len(colNames),1):\n",
    "        val1 = distance_matrix[comboCol1Name][colNames[i]]\n",
    "        val2 = distance_matrix[colNames[i]][comboCol2Name]    \n",
    "        distance_matrix_l1_init.iloc[0,i] = (val1 + val2)/2.0\n",
    "        distance_matrix_l1_init.iloc[i,0] = (val1 + val2)/2.0\n",
    "        print(f\"{comboCol1Name}_{colNames[i]}({val1})\".ljust(10, ' '),f\"{comboCol2Name}_{colNames[i]}({val2})\".ljust(10, ' '))\n",
    "    return distance_matrix_l1_init"
   ]
  },
  {
   "cell_type": "code",
   "execution_count": 5,
   "id": "c7a727da-ed93-40e7-bdc1-d461a0a4fb52",
   "metadata": {},
   "outputs": [],
   "source": [
    "def removeMinDistanceRowCol(distanceMatrix:pd.DataFrame, minValueLocaiton):\n",
    "    lowerIndex = minValueLocaiton[0]\n",
    "    upperIndex = minValueLocaiton[1]\n",
    "    colNames = distanceMatrix.columns\n",
    "    rowcolString1 = colNames[lowerIndex]\n",
    "    rowcolString2 = colNames[upperIndex]\n",
    "    colName1 = colNames[lowerIndex].replace('S','')\n",
    "    colName2 = colNames[upperIndex].replace('S','')\n",
    "    newRowColName = f\"S{colName1}{colName2}\"\n",
    "    \n",
    "    # Remove columns\n",
    "    distanceMatrix.drop(rowcolString1, axis=1, inplace=True)\n",
    "    distanceMatrix.drop(rowcolString2, axis=1, inplace=True)\n",
    "    # Remove rows\n",
    "    distanceMatrix.drop(rowcolString1, inplace=True)\n",
    "    distanceMatrix.drop(rowcolString2, inplace=True)\n",
    "\n",
    "\n",
    "    # Filling row and col and index 0,0 with -9999\n",
    "    rowCombo =distanceMatrix.iloc[0]\n",
    "    newDF = pd.DataFrame(rowCombo, index=[0])\n",
    "    distanceMatrix = pd.concat([newDF, distanceMatrix])\n",
    "    rowArray  = np.zeros(distanceMatrix.shape[0])\n",
    "    rowArray[:] = -9999\n",
    "    distanceMatrix.insert(0, newRowColName, rowArray)\n",
    "    distanceMatrix.iloc[0] = -9999\n",
    "    distanceMatrix.index = distanceMatrix.columns\n",
    "    \n",
    "    # Setting diagonal = 0\n",
    "    array = distanceMatrix.values\n",
    "    np.fill_diagonal(array, 0)\n",
    "    distanceMatrix_modified = pd.DataFrame(array, columns=distanceMatrix.columns, index=distanceMatrix.index)\n",
    "    return distanceMatrix_modified"
   ]
  },
  {
   "cell_type": "code",
   "execution_count": 6,
   "id": "f83c8395-bed5-4009-a559-1ffe8b760291",
   "metadata": {},
   "outputs": [
    {
     "data": {
      "text/html": [
       "<div>\n",
       "<style scoped>\n",
       "    .dataframe tbody tr th:only-of-type {\n",
       "        vertical-align: middle;\n",
       "    }\n",
       "\n",
       "    .dataframe tbody tr th {\n",
       "        vertical-align: top;\n",
       "    }\n",
       "\n",
       "    .dataframe thead th {\n",
       "        text-align: right;\n",
       "    }\n",
       "</style>\n",
       "<table border=\"1\" class=\"dataframe\">\n",
       "  <thead>\n",
       "    <tr style=\"text-align: right;\">\n",
       "      <th></th>\n",
       "      <th>father</th>\n",
       "      <th>mother</th>\n",
       "      <th>one</th>\n",
       "      <th>eight</th>\n",
       "      <th>knee</th>\n",
       "      <th>nose</th>\n",
       "      <th>tongue</th>\n",
       "      <th>dog</th>\n",
       "      <th>egg</th>\n",
       "      <th>smoke</th>\n",
       "      <th>snow</th>\n",
       "      <th>to burn</th>\n",
       "      <th>to bite</th>\n",
       "      <th>to sing</th>\n",
       "      <th>to spit</th>\n",
       "      <th>dry</th>\n",
       "    </tr>\n",
       "  </thead>\n",
       "  <tbody>\n",
       "    <tr>\n",
       "      <th>0</th>\n",
       "      <td>*ićä</td>\n",
       "      <td>*ava</td>\n",
       "      <td>*ikte</td>\n",
       "      <td>*kakteksan</td>\n",
       "      <td>*polwe</td>\n",
       "      <td>*nere</td>\n",
       "      <td>*kele</td>\n",
       "      <td>*pene</td>\n",
       "      <td>*muna</td>\n",
       "      <td>*sawe</td>\n",
       "      <td>*lume</td>\n",
       "      <td>*korpe</td>\n",
       "      <td>*pure</td>\n",
       "      <td>*mura</td>\n",
       "      <td>*śil'ke</td>\n",
       "      <td>*kuśka</td>\n",
       "    </tr>\n",
       "    <tr>\n",
       "      <th>1</th>\n",
       "      <td>*ićä</td>\n",
       "      <td>*emä</td>\n",
       "      <td>*ikte</td>\n",
       "      <td>*kakteksan</td>\n",
       "      <td>*polwe</td>\n",
       "      <td>*nenä</td>\n",
       "      <td>*kele</td>\n",
       "      <td>*pene</td>\n",
       "      <td>*muna</td>\n",
       "      <td>*sawe</td>\n",
       "      <td>*lume</td>\n",
       "      <td>*korpe</td>\n",
       "      <td>*pure</td>\n",
       "      <td>*laulu</td>\n",
       "      <td>*śil'ke</td>\n",
       "      <td>*kujwa</td>\n",
       "    </tr>\n",
       "    <tr>\n",
       "      <th>2</th>\n",
       "      <td>*ićä</td>\n",
       "      <td>*emä</td>\n",
       "      <td>*egy</td>\n",
       "      <td>*ńalɜ</td>\n",
       "      <td>*térd</td>\n",
       "      <td>*orr</td>\n",
       "      <td>*nyelv</td>\n",
       "      <td>*ämpɜ</td>\n",
       "      <td>*tojás</td>\n",
       "      <td>*pičɜ</td>\n",
       "      <td>*hó</td>\n",
       "      <td>*pilɜ</td>\n",
       "      <td>*harap</td>\n",
       "      <td>*énekel</td>\n",
       "      <td>*köp</td>\n",
       "      <td>*ϑasɜ</td>\n",
       "    </tr>\n",
       "    <tr>\n",
       "      <th>3</th>\n",
       "      <td>*ićä</td>\n",
       "      <td>*emä</td>\n",
       "      <td>*ikte</td>\n",
       "      <td>*ńalɜ</td>\n",
       "      <td>*sāns</td>\n",
       "      <td>*nere</td>\n",
       "      <td>*kele</td>\n",
       "      <td>*ämpɜ</td>\n",
       "      <td>*muna</td>\n",
       "      <td>*pičɜ</td>\n",
       "      <td>*tūjt</td>\n",
       "      <td>*pilɜ</td>\n",
       "      <td>*pure</td>\n",
       "      <td>*mura</td>\n",
       "      <td>*śil'ke</td>\n",
       "      <td>*ϑasɜ</td>\n",
       "    </tr>\n",
       "    <tr>\n",
       "      <th>4</th>\n",
       "      <td>*ićä</td>\n",
       "      <td>*ava</td>\n",
       "      <td>*ikte</td>\n",
       "      <td>*kakteksan</td>\n",
       "      <td>*polwe</td>\n",
       "      <td>*nere</td>\n",
       "      <td>*jylme</td>\n",
       "      <td>*pene</td>\n",
       "      <td>*muna</td>\n",
       "      <td>*šikš</td>\n",
       "      <td>*lume</td>\n",
       "      <td>*äŋɜ</td>\n",
       "      <td>*pure</td>\n",
       "      <td>*mura</td>\n",
       "      <td>*śil'ke</td>\n",
       "      <td>*kuśka</td>\n",
       "    </tr>\n",
       "    <tr>\n",
       "      <th>5</th>\n",
       "      <td>*ićä</td>\n",
       "      <td>*emä</td>\n",
       "      <td>*ikte</td>\n",
       "      <td>*kakteksan</td>\n",
       "      <td>*polwe</td>\n",
       "      <td>*nere</td>\n",
       "      <td>*kele</td>\n",
       "      <td>*pene</td>\n",
       "      <td>*muna</td>\n",
       "      <td>*sawe</td>\n",
       "      <td>*lume</td>\n",
       "      <td>*korpe</td>\n",
       "      <td>*pure</td>\n",
       "      <td>*laulu</td>\n",
       "      <td>*śil'ke</td>\n",
       "      <td>*kujwa</td>\n",
       "    </tr>\n",
       "  </tbody>\n",
       "</table>\n",
       "</div>"
      ],
      "text/plain": [
       "  father mother    one       eight    knee   nose  tongue    dog     egg  \\\n",
       "0   *ićä   *ava  *ikte  *kakteksan  *polwe  *nere   *kele  *pene   *muna   \n",
       "1   *ićä   *emä  *ikte  *kakteksan  *polwe  *nenä   *kele  *pene   *muna   \n",
       "2   *ićä   *emä   *egy       *ńalɜ   *térd   *orr  *nyelv  *ämpɜ  *tojás   \n",
       "3   *ićä   *emä  *ikte       *ńalɜ   *sāns  *nere   *kele  *ämpɜ   *muna   \n",
       "4   *ićä   *ava  *ikte  *kakteksan  *polwe  *nere  *jylme  *pene   *muna   \n",
       "5   *ićä   *emä  *ikte  *kakteksan  *polwe  *nere   *kele  *pene   *muna   \n",
       "\n",
       "   smoke   snow   to burn to bite  to sing  to spit     dry  \n",
       "0  *sawe  *lume    *korpe   *pure    *mura  *śil'ke  *kuśka  \n",
       "1  *sawe  *lume    *korpe   *pure   *laulu  *śil'ke  *kujwa  \n",
       "2  *pičɜ    *hó  *pilɜ     *harap  *énekel     *köp   *ϑasɜ  \n",
       "3  *pičɜ  *tūjt  *pilɜ      *pure    *mura  *śil'ke   *ϑasɜ  \n",
       "4  *šikš  *lume      *äŋɜ   *pure    *mura  *śil'ke  *kuśka  \n",
       "5  *sawe  *lume    *korpe   *pure   *laulu  *śil'ke  *kujwa  "
      ]
     },
     "execution_count": 6,
     "metadata": {},
     "output_type": "execute_result"
    }
   ],
   "source": [
    "# From XSLX file read specific sheet name.\n",
    "df = pd.read_excel(\"Hw1-words.xlsx\", sheet_name='Proto-words')\n",
    "df"
   ]
  },
  {
   "cell_type": "code",
   "execution_count": 7,
   "id": "c4bc8b7f-4b43-47eb-ba5f-0ea47bc9da07",
   "metadata": {},
   "outputs": [
    {
     "data": {
      "text/plain": [
       "['A', 'B', 'C', 'D', 'E', 'F']"
      ]
     },
     "execution_count": 7,
     "metadata": {},
     "output_type": "execute_result"
    }
   ],
   "source": [
    "maxRowsCount = df.shape[0]\n",
    "maxRowsCount\n",
    "keys = (list('ABCDEFGHIJKLMNOPQRSTUVWXYZabcdefghijklmnopqrstuvwxyz'))[:maxRowsCount]\n",
    "keys"
   ]
  },
  {
   "cell_type": "code",
   "execution_count": 8,
   "id": "5f384269-825f-43d3-983e-86c356cb5ad4",
   "metadata": {},
   "outputs": [],
   "source": [
    "dfKeyed = df.copy()\n",
    "for col in df.columns:\n",
    "    selectedCol = df[col]\n",
    "    unique_values = selectedCol.unique()\n",
    "    word2key = dict(zip(unique_values, keys))\n",
    "    dfKeyed[col].replace(word2key, inplace=True)"
   ]
  },
  {
   "cell_type": "code",
   "execution_count": 9,
   "id": "814f754c-3ef4-4f7f-99bd-b13f7512721e",
   "metadata": {},
   "outputs": [
    {
     "data": {
      "text/html": [
       "<div>\n",
       "<style scoped>\n",
       "    .dataframe tbody tr th:only-of-type {\n",
       "        vertical-align: middle;\n",
       "    }\n",
       "\n",
       "    .dataframe tbody tr th {\n",
       "        vertical-align: top;\n",
       "    }\n",
       "\n",
       "    .dataframe thead th {\n",
       "        text-align: right;\n",
       "    }\n",
       "</style>\n",
       "<table border=\"1\" class=\"dataframe\">\n",
       "  <thead>\n",
       "    <tr style=\"text-align: right;\">\n",
       "      <th></th>\n",
       "      <th>father</th>\n",
       "      <th>mother</th>\n",
       "      <th>one</th>\n",
       "      <th>eight</th>\n",
       "      <th>knee</th>\n",
       "      <th>nose</th>\n",
       "      <th>tongue</th>\n",
       "      <th>dog</th>\n",
       "      <th>egg</th>\n",
       "      <th>smoke</th>\n",
       "      <th>snow</th>\n",
       "      <th>to burn</th>\n",
       "      <th>to bite</th>\n",
       "      <th>to sing</th>\n",
       "      <th>to spit</th>\n",
       "      <th>dry</th>\n",
       "    </tr>\n",
       "  </thead>\n",
       "  <tbody>\n",
       "    <tr>\n",
       "      <th>0</th>\n",
       "      <td>A</td>\n",
       "      <td>A</td>\n",
       "      <td>A</td>\n",
       "      <td>A</td>\n",
       "      <td>A</td>\n",
       "      <td>A</td>\n",
       "      <td>A</td>\n",
       "      <td>A</td>\n",
       "      <td>A</td>\n",
       "      <td>A</td>\n",
       "      <td>A</td>\n",
       "      <td>A</td>\n",
       "      <td>A</td>\n",
       "      <td>A</td>\n",
       "      <td>A</td>\n",
       "      <td>A</td>\n",
       "    </tr>\n",
       "    <tr>\n",
       "      <th>1</th>\n",
       "      <td>A</td>\n",
       "      <td>B</td>\n",
       "      <td>A</td>\n",
       "      <td>A</td>\n",
       "      <td>A</td>\n",
       "      <td>B</td>\n",
       "      <td>A</td>\n",
       "      <td>A</td>\n",
       "      <td>A</td>\n",
       "      <td>A</td>\n",
       "      <td>A</td>\n",
       "      <td>A</td>\n",
       "      <td>A</td>\n",
       "      <td>B</td>\n",
       "      <td>A</td>\n",
       "      <td>B</td>\n",
       "    </tr>\n",
       "    <tr>\n",
       "      <th>2</th>\n",
       "      <td>A</td>\n",
       "      <td>B</td>\n",
       "      <td>B</td>\n",
       "      <td>B</td>\n",
       "      <td>B</td>\n",
       "      <td>C</td>\n",
       "      <td>B</td>\n",
       "      <td>B</td>\n",
       "      <td>B</td>\n",
       "      <td>B</td>\n",
       "      <td>B</td>\n",
       "      <td>B</td>\n",
       "      <td>B</td>\n",
       "      <td>C</td>\n",
       "      <td>B</td>\n",
       "      <td>C</td>\n",
       "    </tr>\n",
       "    <tr>\n",
       "      <th>3</th>\n",
       "      <td>A</td>\n",
       "      <td>B</td>\n",
       "      <td>A</td>\n",
       "      <td>B</td>\n",
       "      <td>C</td>\n",
       "      <td>A</td>\n",
       "      <td>A</td>\n",
       "      <td>B</td>\n",
       "      <td>A</td>\n",
       "      <td>B</td>\n",
       "      <td>C</td>\n",
       "      <td>B</td>\n",
       "      <td>A</td>\n",
       "      <td>A</td>\n",
       "      <td>A</td>\n",
       "      <td>C</td>\n",
       "    </tr>\n",
       "    <tr>\n",
       "      <th>4</th>\n",
       "      <td>A</td>\n",
       "      <td>A</td>\n",
       "      <td>A</td>\n",
       "      <td>A</td>\n",
       "      <td>A</td>\n",
       "      <td>A</td>\n",
       "      <td>C</td>\n",
       "      <td>A</td>\n",
       "      <td>A</td>\n",
       "      <td>C</td>\n",
       "      <td>A</td>\n",
       "      <td>C</td>\n",
       "      <td>A</td>\n",
       "      <td>A</td>\n",
       "      <td>A</td>\n",
       "      <td>A</td>\n",
       "    </tr>\n",
       "    <tr>\n",
       "      <th>5</th>\n",
       "      <td>A</td>\n",
       "      <td>B</td>\n",
       "      <td>A</td>\n",
       "      <td>A</td>\n",
       "      <td>A</td>\n",
       "      <td>A</td>\n",
       "      <td>A</td>\n",
       "      <td>A</td>\n",
       "      <td>A</td>\n",
       "      <td>A</td>\n",
       "      <td>A</td>\n",
       "      <td>A</td>\n",
       "      <td>A</td>\n",
       "      <td>B</td>\n",
       "      <td>A</td>\n",
       "      <td>B</td>\n",
       "    </tr>\n",
       "  </tbody>\n",
       "</table>\n",
       "</div>"
      ],
      "text/plain": [
       "  father mother one eight knee nose tongue dog egg smoke snow to burn to bite  \\\n",
       "0      A      A   A     A    A    A      A   A   A     A    A       A       A   \n",
       "1      A      B   A     A    A    B      A   A   A     A    A       A       A   \n",
       "2      A      B   B     B    B    C      B   B   B     B    B       B       B   \n",
       "3      A      B   A     B    C    A      A   B   A     B    C       B       A   \n",
       "4      A      A   A     A    A    A      C   A   A     C    A       C       A   \n",
       "5      A      B   A     A    A    A      A   A   A     A    A       A       A   \n",
       "\n",
       "  to sing to spit dry  \n",
       "0       A       A   A  \n",
       "1       B       A   B  \n",
       "2       C       B   C  \n",
       "3       A       A   C  \n",
       "4       A       A   A  \n",
       "5       B       A   B  "
      ]
     },
     "execution_count": 9,
     "metadata": {},
     "output_type": "execute_result"
    }
   ],
   "source": [
    "dfKeyed"
   ]
  },
  {
   "cell_type": "code",
   "execution_count": 10,
   "id": "21528aee-b38e-4869-8b20-b41bc98712b8",
   "metadata": {},
   "outputs": [
    {
     "name": "stdout",
     "output_type": "stream",
     "text": [
      "Column and Row names ['S1', 'S2', 'S3', 'S4', 'S5', 'S6']\n"
     ]
    }
   ],
   "source": [
    "matrix_size = dfKeyed.shape[0]\n",
    "NameIndexed = []\n",
    "for i in range(matrix_size):\n",
    "    NameIndexed.append(\"S\"+str(i+1))\n",
    "print(\"Column and Row names\",NameIndexed)"
   ]
  },
  {
   "cell_type": "markdown",
   "id": "064100ed-2126-4eb3-95ff-ae0ab21e8359",
   "metadata": {},
   "source": [
    "### Setting row/col names"
   ]
  },
  {
   "cell_type": "code",
   "execution_count": 11,
   "id": "8bf24826-b2e3-431c-8211-dd8a2375423a",
   "metadata": {},
   "outputs": [],
   "source": [
    "distance_matrix = pd.DataFrame(index=range(df.shape[0]), columns=range(df.shape[0]))\n",
    "distance_matrix = pd.DataFrame(distance_matrix, index=NameIndexed)\n",
    "distance_matrix.columns = NameIndexed"
   ]
  },
  {
   "cell_type": "code",
   "execution_count": 12,
   "id": "5250df36-ceed-4aa6-8d15-a03228066deb",
   "metadata": {},
   "outputs": [],
   "source": [
    "min_value_location = []\n",
    "min_value = 999999\n",
    "for i in range (matrix_size):\n",
    "    for j in range (matrix_size):\n",
    "        col=j\n",
    "        row =i\n",
    "        row1 = df.iloc[row]\n",
    "        row2 = df.iloc[col]\n",
    "        distance = (row1 != row2).sum()\n",
    "        if min_value>distance and distance!=0:\n",
    "            min_value = distance\n",
    "            min_value_location = (row,col)        \n",
    "        distance_matrix.iloc[row,col]=distance"
   ]
  },
  {
   "cell_type": "markdown",
   "id": "5d4b4cd6-f2c9-497b-9996-523a93da746d",
   "metadata": {},
   "source": [
    "### <u>Distance matrix from Proto words</u>\n",
    "**Initial distance matrix**"
   ]
  },
  {
   "cell_type": "code",
   "execution_count": 13,
   "id": "a2806daf-f5e8-47ac-be7b-4ba43c488607",
   "metadata": {},
   "outputs": [
    {
     "data": {
      "text/html": [
       "<div>\n",
       "<style scoped>\n",
       "    .dataframe tbody tr th:only-of-type {\n",
       "        vertical-align: middle;\n",
       "    }\n",
       "\n",
       "    .dataframe tbody tr th {\n",
       "        vertical-align: top;\n",
       "    }\n",
       "\n",
       "    .dataframe thead th {\n",
       "        text-align: right;\n",
       "    }\n",
       "</style>\n",
       "<table border=\"1\" class=\"dataframe\">\n",
       "  <thead>\n",
       "    <tr style=\"text-align: right;\">\n",
       "      <th></th>\n",
       "      <th>S1</th>\n",
       "      <th>S2</th>\n",
       "      <th>S3</th>\n",
       "      <th>S4</th>\n",
       "      <th>S5</th>\n",
       "      <th>S6</th>\n",
       "    </tr>\n",
       "  </thead>\n",
       "  <tbody>\n",
       "    <tr>\n",
       "      <th>S1</th>\n",
       "      <td>0</td>\n",
       "      <td>4</td>\n",
       "      <td>15</td>\n",
       "      <td>8</td>\n",
       "      <td>3</td>\n",
       "      <td>3</td>\n",
       "    </tr>\n",
       "    <tr>\n",
       "      <th>S2</th>\n",
       "      <td>4</td>\n",
       "      <td>0</td>\n",
       "      <td>14</td>\n",
       "      <td>9</td>\n",
       "      <td>7</td>\n",
       "      <td>1</td>\n",
       "    </tr>\n",
       "    <tr>\n",
       "      <th>S3</th>\n",
       "      <td>15</td>\n",
       "      <td>14</td>\n",
       "      <td>0</td>\n",
       "      <td>9</td>\n",
       "      <td>15</td>\n",
       "      <td>14</td>\n",
       "    </tr>\n",
       "    <tr>\n",
       "      <th>S4</th>\n",
       "      <td>8</td>\n",
       "      <td>9</td>\n",
       "      <td>9</td>\n",
       "      <td>0</td>\n",
       "      <td>9</td>\n",
       "      <td>8</td>\n",
       "    </tr>\n",
       "    <tr>\n",
       "      <th>S5</th>\n",
       "      <td>3</td>\n",
       "      <td>7</td>\n",
       "      <td>15</td>\n",
       "      <td>9</td>\n",
       "      <td>0</td>\n",
       "      <td>6</td>\n",
       "    </tr>\n",
       "    <tr>\n",
       "      <th>S6</th>\n",
       "      <td>3</td>\n",
       "      <td>1</td>\n",
       "      <td>14</td>\n",
       "      <td>8</td>\n",
       "      <td>6</td>\n",
       "      <td>0</td>\n",
       "    </tr>\n",
       "  </tbody>\n",
       "</table>\n",
       "</div>"
      ],
      "text/plain": [
       "    S1  S2  S3 S4  S5  S6\n",
       "S1   0   4  15  8   3   3\n",
       "S2   4   0  14  9   7   1\n",
       "S3  15  14   0  9  15  14\n",
       "S4   8   9   9  0   9   8\n",
       "S5   3   7  15  9   0   6\n",
       "S6   3   1  14  8   6   0"
      ]
     },
     "execution_count": 13,
     "metadata": {},
     "output_type": "execute_result"
    }
   ],
   "source": [
    "distance_matrix"
   ]
  },
  {
   "cell_type": "markdown",
   "id": "470df706-7e45-4cff-a4df-9a9511276127",
   "metadata": {},
   "source": [
    "### Renaming columns as S1..Sn & finding the row/col index of the minimum distance"
   ]
  },
  {
   "cell_type": "code",
   "execution_count": 14,
   "id": "0aafd908-4198-473b-b94f-b3fd85ad8e81",
   "metadata": {},
   "outputs": [
    {
     "name": "stdout",
     "output_type": "stream",
     "text": [
      "Minimum distance row/col index==> (1, 5)\n",
      "Row==> S2 Col==> S6\n"
     ]
    }
   ],
   "source": [
    "distance_matrix.columns = NameIndexed\n",
    "distance_matrix.shape\n",
    "lowerIndex, upperIndex = min_value_location\n",
    "print(f\"Minimum distance row/col index==> {min_value_location}\")\n",
    "print(\"Row==>\", distance_matrix.columns[min_value_location[0]], \"Col==>\",distance_matrix.columns[min_value_location[1]] )"
   ]
  },
  {
   "cell_type": "code",
   "execution_count": 15,
   "id": "f9a741e4-d944-48b4-a10a-90764cebf9b8",
   "metadata": {},
   "outputs": [],
   "source": [
    "newRowColName = f\"S{lowerIndex+1}{upperIndex+1}\""
   ]
  },
  {
   "cell_type": "markdown",
   "id": "70e3bd4f-e85b-4fc8-ae28-fad8339d448f",
   "metadata": {},
   "source": [
    "### Creating a copy of distance matrix for calculation of 2nd step and removing the rows and column associated with minimum row/col distance."
   ]
  },
  {
   "cell_type": "code",
   "execution_count": 16,
   "id": "4f714172-131c-456f-a2aa-dede652d27ba",
   "metadata": {},
   "outputs": [
    {
     "name": "stdout",
     "output_type": "stream",
     "text": [
      "Distance matrix after removing min value rows and columns\n"
     ]
    },
    {
     "data": {
      "text/html": [
       "<div>\n",
       "<style scoped>\n",
       "    .dataframe tbody tr th:only-of-type {\n",
       "        vertical-align: middle;\n",
       "    }\n",
       "\n",
       "    .dataframe tbody tr th {\n",
       "        vertical-align: top;\n",
       "    }\n",
       "\n",
       "    .dataframe thead th {\n",
       "        text-align: right;\n",
       "    }\n",
       "</style>\n",
       "<table border=\"1\" class=\"dataframe\">\n",
       "  <thead>\n",
       "    <tr style=\"text-align: right;\">\n",
       "      <th></th>\n",
       "      <th>S1</th>\n",
       "      <th>S3</th>\n",
       "      <th>S4</th>\n",
       "      <th>S5</th>\n",
       "    </tr>\n",
       "  </thead>\n",
       "  <tbody>\n",
       "    <tr>\n",
       "      <th>S1</th>\n",
       "      <td>0</td>\n",
       "      <td>15</td>\n",
       "      <td>8</td>\n",
       "      <td>3</td>\n",
       "    </tr>\n",
       "    <tr>\n",
       "      <th>S3</th>\n",
       "      <td>15</td>\n",
       "      <td>0</td>\n",
       "      <td>9</td>\n",
       "      <td>15</td>\n",
       "    </tr>\n",
       "    <tr>\n",
       "      <th>S4</th>\n",
       "      <td>8</td>\n",
       "      <td>9</td>\n",
       "      <td>0</td>\n",
       "      <td>9</td>\n",
       "    </tr>\n",
       "    <tr>\n",
       "      <th>S5</th>\n",
       "      <td>3</td>\n",
       "      <td>15</td>\n",
       "      <td>9</td>\n",
       "      <td>0</td>\n",
       "    </tr>\n",
       "  </tbody>\n",
       "</table>\n",
       "</div>"
      ],
      "text/plain": [
       "    S1  S3 S4  S5\n",
       "S1   0  15  8   3\n",
       "S3  15   0  9  15\n",
       "S4   8   9  0   9\n",
       "S5   3  15  9   0"
      ]
     },
     "execution_count": 16,
     "metadata": {},
     "output_type": "execute_result"
    }
   ],
   "source": [
    "distance_matrix_l1 = distance_matrix.copy()\n",
    "distance_matrix_l1.drop(distance_matrix_l1.columns[upperIndex], axis=1, inplace=True)\n",
    "distance_matrix_l1.drop(distance_matrix_l1.columns[lowerIndex], axis=1, inplace=True)\n",
    "\n",
    "distance_matrix_l1.drop(distance_matrix_l1.index[upperIndex], inplace=True)\n",
    "distance_matrix_l1.drop(distance_matrix_l1.index[lowerIndex], inplace=True)\n",
    "print(\"Distance matrix after removing min value rows and columns\")\n",
    "distance_matrix_l1"
   ]
  },
  {
   "cell_type": "markdown",
   "id": "f2deeabd-c842-4149-b453-d9a291d78d94",
   "metadata": {},
   "source": [
    "### Adding row and col at index 0,0 with with the row/col name."
   ]
  },
  {
   "cell_type": "code",
   "execution_count": 17,
   "id": "f3f16197-61b0-45df-a623-537a7be18357",
   "metadata": {},
   "outputs": [],
   "source": [
    "rowCombo =distance_matrix_l1.iloc[0]\n",
    "newDF = pd.DataFrame(rowCombo, index=[0])\n",
    "distance_matrix_l1 = pd.concat([newDF, distance_matrix_l1])\n",
    "# rowCombo  = distance_matrix_l1[0]\n",
    "rowArray  = np.zeros(distance_matrix_l1.shape[0])\n",
    "rowArray[:] = np.nan\n",
    "distance_matrix_l1.insert(0, f\"S{lowerIndex+1}{upperIndex+1}\", rowArray)"
   ]
  },
  {
   "cell_type": "code",
   "execution_count": 18,
   "id": "8cb46dea-c342-4bf7-9e15-ecf8c9c5c138",
   "metadata": {},
   "outputs": [],
   "source": [
    "indexNames = distance_matrix_l1.index.tolist()\n",
    "indexNames[0]= f\"S{lowerIndex+1}{upperIndex+1}\"\n",
    "distance_matrix_l1.index= indexNames"
   ]
  },
  {
   "cell_type": "markdown",
   "id": "b7de02ea-59ee-41b4-93c0-6be51edf4f19",
   "metadata": {},
   "source": [
    "#### Constructed a matrix with new colum/row name corresponding to min distance combo\n",
    "e.g. If min distance value is at S3 & S5; new col name will be S35"
   ]
  },
  {
   "cell_type": "code",
   "execution_count": 19,
   "id": "a6fa23c8-2466-45bb-97d1-34d68b3adf96",
   "metadata": {},
   "outputs": [
    {
     "data": {
      "text/html": [
       "<div>\n",
       "<style scoped>\n",
       "    .dataframe tbody tr th:only-of-type {\n",
       "        vertical-align: middle;\n",
       "    }\n",
       "\n",
       "    .dataframe tbody tr th {\n",
       "        vertical-align: top;\n",
       "    }\n",
       "\n",
       "    .dataframe thead th {\n",
       "        text-align: right;\n",
       "    }\n",
       "</style>\n",
       "<table border=\"1\" class=\"dataframe\">\n",
       "  <thead>\n",
       "    <tr style=\"text-align: right;\">\n",
       "      <th></th>\n",
       "      <th>S26</th>\n",
       "      <th>S1</th>\n",
       "      <th>S3</th>\n",
       "      <th>S4</th>\n",
       "      <th>S5</th>\n",
       "    </tr>\n",
       "  </thead>\n",
       "  <tbody>\n",
       "    <tr>\n",
       "      <th>S26</th>\n",
       "      <td>NaN</td>\n",
       "      <td>NaN</td>\n",
       "      <td>NaN</td>\n",
       "      <td>NaN</td>\n",
       "      <td>NaN</td>\n",
       "    </tr>\n",
       "    <tr>\n",
       "      <th>S1</th>\n",
       "      <td>NaN</td>\n",
       "      <td>0</td>\n",
       "      <td>15</td>\n",
       "      <td>8</td>\n",
       "      <td>3</td>\n",
       "    </tr>\n",
       "    <tr>\n",
       "      <th>S3</th>\n",
       "      <td>NaN</td>\n",
       "      <td>15</td>\n",
       "      <td>0</td>\n",
       "      <td>9</td>\n",
       "      <td>15</td>\n",
       "    </tr>\n",
       "    <tr>\n",
       "      <th>S4</th>\n",
       "      <td>NaN</td>\n",
       "      <td>8</td>\n",
       "      <td>9</td>\n",
       "      <td>0</td>\n",
       "      <td>9</td>\n",
       "    </tr>\n",
       "    <tr>\n",
       "      <th>S5</th>\n",
       "      <td>NaN</td>\n",
       "      <td>3</td>\n",
       "      <td>15</td>\n",
       "      <td>9</td>\n",
       "      <td>0</td>\n",
       "    </tr>\n",
       "  </tbody>\n",
       "</table>\n",
       "</div>"
      ],
      "text/plain": [
       "     S26   S1   S3   S4   S5\n",
       "S26  NaN  NaN  NaN  NaN  NaN\n",
       "S1   NaN    0   15    8    3\n",
       "S3   NaN   15    0    9   15\n",
       "S4   NaN    8    9    0    9\n",
       "S5   NaN    3   15    9    0"
      ]
     },
     "execution_count": 19,
     "metadata": {},
     "output_type": "execute_result"
    }
   ],
   "source": [
    "distance_matrix_l1"
   ]
  },
  {
   "cell_type": "code",
   "execution_count": 20,
   "id": "3bd6985a-372a-41bb-95bf-71c1ae6eeeef",
   "metadata": {},
   "outputs": [
    {
     "name": "stdout",
     "output_type": "stream",
     "text": [
      "S2_S1(4)   S6_S1(3)  \n",
      "S2_S3(14)  S6_S3(14) \n",
      "S2_S4(9)   S6_S4(8)  \n",
      "S2_S5(7)   S6_S5(6)  \n"
     ]
    },
    {
     "data": {
      "text/html": [
       "<div>\n",
       "<style scoped>\n",
       "    .dataframe tbody tr th:only-of-type {\n",
       "        vertical-align: middle;\n",
       "    }\n",
       "\n",
       "    .dataframe tbody tr th {\n",
       "        vertical-align: top;\n",
       "    }\n",
       "\n",
       "    .dataframe thead th {\n",
       "        text-align: right;\n",
       "    }\n",
       "</style>\n",
       "<table border=\"1\" class=\"dataframe\">\n",
       "  <thead>\n",
       "    <tr style=\"text-align: right;\">\n",
       "      <th></th>\n",
       "      <th>S26</th>\n",
       "      <th>S1</th>\n",
       "      <th>S3</th>\n",
       "      <th>S4</th>\n",
       "      <th>S5</th>\n",
       "    </tr>\n",
       "  </thead>\n",
       "  <tbody>\n",
       "    <tr>\n",
       "      <th>S26</th>\n",
       "      <td>NaN</td>\n",
       "      <td>3.5</td>\n",
       "      <td>14.0</td>\n",
       "      <td>8.5</td>\n",
       "      <td>6.5</td>\n",
       "    </tr>\n",
       "    <tr>\n",
       "      <th>S1</th>\n",
       "      <td>3.5</td>\n",
       "      <td>0</td>\n",
       "      <td>15</td>\n",
       "      <td>8</td>\n",
       "      <td>3</td>\n",
       "    </tr>\n",
       "    <tr>\n",
       "      <th>S3</th>\n",
       "      <td>14.0</td>\n",
       "      <td>15</td>\n",
       "      <td>0</td>\n",
       "      <td>9</td>\n",
       "      <td>15</td>\n",
       "    </tr>\n",
       "    <tr>\n",
       "      <th>S4</th>\n",
       "      <td>8.5</td>\n",
       "      <td>8</td>\n",
       "      <td>9</td>\n",
       "      <td>0</td>\n",
       "      <td>9</td>\n",
       "    </tr>\n",
       "    <tr>\n",
       "      <th>S5</th>\n",
       "      <td>6.5</td>\n",
       "      <td>3</td>\n",
       "      <td>15</td>\n",
       "      <td>9</td>\n",
       "      <td>0</td>\n",
       "    </tr>\n",
       "  </tbody>\n",
       "</table>\n",
       "</div>"
      ],
      "text/plain": [
       "      S26   S1    S3   S4   S5\n",
       "S26   NaN  3.5  14.0  8.5  6.5\n",
       "S1    3.5    0    15    8    3\n",
       "S3   14.0   15     0    9   15\n",
       "S4    8.5    8     9    0    9\n",
       "S5    6.5    3    15    9    0"
      ]
     },
     "execution_count": 20,
     "metadata": {},
     "output_type": "execute_result"
    }
   ],
   "source": [
    "distance_matrix_l1_init = updateDistances(distance_matrix_l1, min_value_location)\n",
    "distance_matrix_l1_init"
   ]
  },
  {
   "cell_type": "code",
   "execution_count": 21,
   "id": "1676b6d4-e54e-4df1-a6f3-df3aa52070ba",
   "metadata": {},
   "outputs": [
    {
     "name": "stdout",
     "output_type": "stream",
     "text": [
      "Min Location==> <bound method Location.text of <__main__.Location object at 0x00000297121E6310>> Min value==> 3\n",
      "Row==> S1 Col==> S5\n"
     ]
    }
   ],
   "source": [
    "matrix2RowColMin = getMinLocation(distance_matrix_l1_init)"
   ]
  },
  {
   "cell_type": "markdown",
   "id": "48bcfe68-65a9-4b95-8873-9533238c1b7e",
   "metadata": {},
   "source": [
    "### Creating matrix and filling row=0; col=0 with dummy values -9999"
   ]
  },
  {
   "cell_type": "code",
   "execution_count": 22,
   "id": "4e816347-0a7b-4693-aabd-7da7e95e733d",
   "metadata": {},
   "outputs": [
    {
     "ename": "TypeError",
     "evalue": "'Location' object is not subscriptable",
     "output_type": "error",
     "traceback": [
      "\u001b[1;31m---------------------------------------------------------------------------\u001b[0m",
      "\u001b[1;31mTypeError\u001b[0m                                 Traceback (most recent call last)",
      "\u001b[1;32m~\\AppData\\Local\\Temp/ipykernel_21160/2663974204.py\u001b[0m in \u001b[0;36m<module>\u001b[1;34m\u001b[0m\n\u001b[1;32m----> 1\u001b[1;33m \u001b[0mupdatedMatrix\u001b[0m \u001b[1;33m=\u001b[0m \u001b[0mremoveMinDistanceRowCol\u001b[0m\u001b[1;33m(\u001b[0m\u001b[0mdistance_matrix_l1_init\u001b[0m\u001b[1;33m,\u001b[0m \u001b[0mmatrix2RowColMin\u001b[0m\u001b[1;33m)\u001b[0m\u001b[1;33m\u001b[0m\u001b[1;33m\u001b[0m\u001b[0m\n\u001b[0m\u001b[0;32m      2\u001b[0m \u001b[0mupdatedMatrix\u001b[0m\u001b[1;33m\u001b[0m\u001b[1;33m\u001b[0m\u001b[0m\n",
      "\u001b[1;32m~\\AppData\\Local\\Temp/ipykernel_21160/239518197.py\u001b[0m in \u001b[0;36mremoveMinDistanceRowCol\u001b[1;34m(distanceMatrix, minValueLocaiton)\u001b[0m\n\u001b[0;32m      1\u001b[0m \u001b[1;32mdef\u001b[0m \u001b[0mremoveMinDistanceRowCol\u001b[0m\u001b[1;33m(\u001b[0m\u001b[0mdistanceMatrix\u001b[0m\u001b[1;33m:\u001b[0m\u001b[0mpd\u001b[0m\u001b[1;33m.\u001b[0m\u001b[0mDataFrame\u001b[0m\u001b[1;33m,\u001b[0m \u001b[0mminValueLocaiton\u001b[0m\u001b[1;33m)\u001b[0m\u001b[1;33m:\u001b[0m\u001b[1;33m\u001b[0m\u001b[1;33m\u001b[0m\u001b[0m\n\u001b[1;32m----> 2\u001b[1;33m     \u001b[0mlowerIndex\u001b[0m \u001b[1;33m=\u001b[0m \u001b[0mminValueLocaiton\u001b[0m\u001b[1;33m[\u001b[0m\u001b[1;36m0\u001b[0m\u001b[1;33m]\u001b[0m\u001b[1;33m\u001b[0m\u001b[1;33m\u001b[0m\u001b[0m\n\u001b[0m\u001b[0;32m      3\u001b[0m     \u001b[0mupperIndex\u001b[0m \u001b[1;33m=\u001b[0m \u001b[0mminValueLocaiton\u001b[0m\u001b[1;33m[\u001b[0m\u001b[1;36m1\u001b[0m\u001b[1;33m]\u001b[0m\u001b[1;33m\u001b[0m\u001b[1;33m\u001b[0m\u001b[0m\n\u001b[0;32m      4\u001b[0m     \u001b[0mcolNames\u001b[0m \u001b[1;33m=\u001b[0m \u001b[0mdistanceMatrix\u001b[0m\u001b[1;33m.\u001b[0m\u001b[0mcolumns\u001b[0m\u001b[1;33m\u001b[0m\u001b[1;33m\u001b[0m\u001b[0m\n\u001b[0;32m      5\u001b[0m     \u001b[0mrowcolString1\u001b[0m \u001b[1;33m=\u001b[0m \u001b[0mcolNames\u001b[0m\u001b[1;33m[\u001b[0m\u001b[0mlowerIndex\u001b[0m\u001b[1;33m]\u001b[0m\u001b[1;33m\u001b[0m\u001b[1;33m\u001b[0m\u001b[0m\n",
      "\u001b[1;31mTypeError\u001b[0m: 'Location' object is not subscriptable"
     ]
    }
   ],
   "source": [
    "updatedMatrix = removeMinDistanceRowCol(distance_matrix_l1_init, matrix2RowColMin)\n",
    "updatedMatrix"
   ]
  },
  {
   "cell_type": "code",
   "execution_count": null,
   "id": "e8bf7773-1162-45ca-9d57-131434c3d7ae",
   "metadata": {},
   "outputs": [],
   "source": [
    "updatedMatrix2 = updateDistances(updatedMatrix, matrix2RowColMin)\n",
    "updatedMatrix2"
   ]
  },
  {
   "cell_type": "code",
   "execution_count": null,
   "id": "8f8819fa-7808-40ae-9e34-1ffb0ee72fba",
   "metadata": {},
   "outputs": [],
   "source": [
    "distance_matrix_l1_init"
   ]
  },
  {
   "cell_type": "code",
   "execution_count": null,
   "id": "e9d680f8-8b7d-4b9c-b5bb-54e0fef4bdd9",
   "metadata": {},
   "outputs": [],
   "source": []
  }
 ],
 "metadata": {
  "kernelspec": {
   "display_name": "Python 3 (ipykernel)",
   "language": "python",
   "name": "python3"
  },
  "language_info": {
   "codemirror_mode": {
    "name": "ipython",
    "version": 3
   },
   "file_extension": ".py",
   "mimetype": "text/x-python",
   "name": "python",
   "nbconvert_exporter": "python",
   "pygments_lexer": "ipython3",
   "version": "3.12.1"
  },
  "widgets": {
   "application/vnd.jupyter.widget-state+json": {
    "state": {},
    "version_major": 2,
    "version_minor": 0
   }
  }
 },
 "nbformat": 4,
 "nbformat_minor": 5
}
